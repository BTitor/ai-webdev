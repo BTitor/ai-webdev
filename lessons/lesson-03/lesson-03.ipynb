{
  "cells": [
    {
      "cell_type": "markdown",
      "metadata": {
        "id": "zxMSBUaZoKCY"
      },
      "source": [
        "<center><h1>AI in Web Development</h1></center>\n",
        "\n",
        "---\n",
        "\n",
        "<center><h2>Lesson 03</h2></center>\n",
        "\n",
        "\n",
        "[![Open In Colab](https://colab.research.google.com/assets/colab-badge.svg)](https://colab.research.google.com/github/snsie/ai-webdev/blob/main/lessons/lesson-03/lesson-03.ipynb)"
      ]
    },
    {
      "cell_type": "code",
      "source": [
        "import numpy as np\n",
        "import matplotlib.pyplot as plt\n",
        "from sklearn import datasets\n",
        "from sklearn.preprocessing import OneHotEncoder\n",
        "from sklearn.preprocessing import LabelBinarizer\n",
        "import plotly\n"
      ],
      "metadata": {
        "id": "ZVmJgs4Hv77H"
      },
      "execution_count": 17,
      "outputs": []
    },
    {
      "cell_type": "code",
      "source": [
        "iris = datasets.load_iris()"
      ],
      "metadata": {
        "id": "Cot06rtg0KVT"
      },
      "execution_count": 8,
      "outputs": []
    },
    {
      "cell_type": "code",
      "source": [
        "# enc = OneHotEncoder().fit(iris.target)\n",
        "outputs = LabelBinarizer().fit_transform(iris.target)\n",
        "# outputs=enc.fit(iris.target)"
      ],
      "metadata": {
        "id": "ot2XOivf0U0E"
      },
      "execution_count": 30,
      "outputs": []
    },
    {
      "cell_type": "code",
      "source": [
        "np.shape(iris.data)"
      ],
      "metadata": {
        "id": "upIgQETl2L-9",
        "outputId": "bbc4d091-c30a-4494-928e-5b5f46c15809",
        "colab": {
          "base_uri": "https://localhost:8080/"
        }
      },
      "execution_count": 24,
      "outputs": [
        {
          "output_type": "execute_result",
          "data": {
            "text/plain": [
              "(150, 4)"
            ]
          },
          "metadata": {},
          "execution_count": 24
        }
      ]
    },
    {
      "cell_type": "code",
      "source": [
        "import numpy as np\n",
        "from sklearn.model_selection import KFold\n",
        "X = iris.data\n",
        "y = iris.target\n",
        "kf = KFold(n_splits=5,shuffle=True)\n",
        "kf.get_n_splits(X)\n",
        "numHiddenNodes=16\n",
        "print(kf)\n",
        "\n",
        "for train_index, test_index in kf.split(X):\n",
        "    # print(\"TRAIN:\", train_index, \"TEST:\", test_index)\n",
        "    X_train, X_test = X[train_index], X[test_index]\n",
        "    y_train, y_test = y[train_index], y[test_index]\n"
      ],
      "metadata": {
        "id": "yNQmz7sE2jhU",
        "outputId": "28ba2f6e-f2f0-45c1-955c-95cbca83ec06",
        "colab": {
          "base_uri": "https://localhost:8080/"
        }
      },
      "execution_count": 64,
      "outputs": [
        {
          "output_type": "stream",
          "name": "stdout",
          "text": [
            "KFold(n_splits=5, random_state=None, shuffle=True)\n"
          ]
        }
      ]
    },
    {
      "cell_type": "code",
      "source": [
        "numNodesIn=5\n",
        "numNodesOut=64"
      ],
      "metadata": {
        "id": "ZQ0dCQjs_HuV"
      },
      "execution_count": 54,
      "outputs": []
    },
    {
      "cell_type": "code",
      "source": [
        "def xavierInit(numNodesIn,numNodesOut):\n",
        "  wMag= np.sqrt(6.0) /np.sqrt(numNodesIn + numNodesOut);\n",
        "  return np.random.uniform(-wMag,wMag)\n",
        "xavierInit(4,64)\n",
        "# import matplotlib.pyplot as plt\n",
        "\n"
      ],
      "metadata": {
        "id": "_IaYs4ep4u8I",
        "outputId": "575deb55-f9e1-4376-d04b-ab9f9c809d5e",
        "colab": {
          "base_uri": "https://localhost:8080/"
        }
      },
      "execution_count": 55,
      "outputs": [
        {
          "output_type": "execute_result",
          "data": {
            "text/plain": [
              "0.0014887662584885941"
            ]
          },
          "metadata": {},
          "execution_count": 55
        }
      ]
    },
    {
      "cell_type": "code",
      "source": [
        "# weightsToHl=np.matrix(shape=(5,64))\n",
        "def initializeWeightMatrix(numNodesIn,numNodesOut):\n",
        "  weightsToHl=np.zeros((numNodesIn,numNodesOut))\n",
        "  for i in range(numNodesIn-1):\n",
        "    for j in range(numNodesOut):\n",
        "      weightsToHl[i,j]=xavierInit(numNodesIn,numNodesOut)\n",
        "  return weightsToHl\n"
      ],
      "metadata": {
        "id": "AqEhfCXl-bR5"
      },
      "execution_count": 60,
      "outputs": []
    },
    {
      "cell_type": "code",
      "source": [
        "class NnFp():\n",
        "  \"\"\"\n",
        "  computes single forward step of neural network\n",
        "  \"\"\"\n",
        "  def __init__(self,inputs,outputs,numHiddenNodes):\n",
        "    self.inputs = inputs\n",
        "    self.outputs = outputs\n",
        "    self.numHiddenNodes=numHiddenNodes\n",
        "    self.weightsToHl=np.array([[.15,0.25],[0.2,0.3],[0.35,0.35]])\n",
        "    self.weightsToOl=np.array([[.4,0.5],[0.45,0.55],[0.6,0.6]])\n",
        "\n",
        "  def initializeWeights(self,numNodesIn,numNodesOut):\n",
        "    weightMat=np.zeros((numNodesIn,numNodesOut))\n",
        "    for i in range(numNodesIn-1):\n",
        "      for j in range(numNodesOut):\n",
        "        weightMat[i,j]=xavierInit(numNodesIn,numNodesOut)\n",
        "    return weightMat\n",
        "\n",
        "  def sigmoid(self,x,derivative=False):\n",
        "    output = 1/(1+np.exp(-x))\n",
        "    if derivative:\n",
        "      return output*(1-output)\n",
        "    return output\n",
        "\n",
        "  def getHlNet(self):\n",
        "    inputsWithBias = np.array([*self.inputs,1])\n",
        "    #multiply 1x3 input array with 3x2 weights array\n",
        "    return inputsWithBias @ self.weightsToHl\n",
        "\n",
        "  def getHlOutputs(self):\n",
        "    hlNet = self.getHlNet()\n",
        "    return self.sigmoid(x=hlNet)\n",
        "\n",
        "  def getOlNet(self):\n",
        "    hlOutputs=self.getHlOutputs()\n",
        "    hlOutputsWithBias=np.array([*hlOutputs,1])\n",
        "    return hlOutputsWithBias @ self.weightsToOl\n",
        "\n",
        "  def getOlOutputs(self):\n",
        "    olNet=self.getOlNet()\n",
        "    return self.sigmoid(olNet)\n",
        "\n",
        "network=NnFp(X_train,X_test,numHiddenNodes)\n",
        "network.inputs.shape"
      ],
      "metadata": {
        "id": "wW1RzjCxyQ4h",
        "outputId": "6495188c-c1b8-4208-a16e-4505bf5f883a",
        "colab": {
          "base_uri": "https://localhost:8080/"
        }
      },
      "execution_count": 67,
      "outputs": [
        {
          "output_type": "execute_result",
          "data": {
            "text/plain": [
              "(120, 4)"
            ]
          },
          "metadata": {},
          "execution_count": 67
        }
      ]
    },
    {
      "cell_type": "code",
      "source": [
        "# create a new class that inherits the forward pass class and combines \n",
        "# the backward pass functions to create a reusable object that computes both \n",
        "# the forward and backward passes of the network\n",
        "class NeuralNet(NnFp):\n",
        "    \"\"\"\n",
        "    updates weights via backpropagation\n",
        "    \"\"\"\n",
        "    def __init__(self,inputs,outputs, lr):\n",
        "        super().__init__(inputs,outputs)\n",
        "        # predicted from forward pass outputs\n",
        "        self.lr=lr\n",
        "        self.hlOutputs=self.getHlOutputs()\n",
        "        self.predOutputs = self.getOlOutputs()\n",
        "    \n",
        "    # get the change in total error with respect to each ol output\n",
        "    def get_dE_dOlOut(self):\n",
        "      predOutputs=self.getOlOutputs()\n",
        "      targets = self.outputs\n",
        "      return predOutputs-targets\n",
        "\n",
        "    def get_dOlOut_dOlNet(self):\n",
        "      olNet=self.getOlNet()\n",
        "      return self.sigmoid(olNet,derivative=True)\n",
        "\n",
        "    def get_dOlNet_dWOl(self):\n",
        "      hlOutputs=self.getHlOutputs()\n",
        "      hlOutputsWithBias=np.array([*hlOutputs,1])\n",
        "      return hlOutputsWithBias.reshape(len(hlOutputsWithBias),1)\n",
        "      \n",
        "    def get_dE_dOlNet(self):\n",
        "      dE_dOlOut=self.get_dE_dOlOut()\n",
        "      dOlOut_dOlNet=self.get_dOlOut_dOlNet()\n",
        "      dE_dOlNet=dE_dOlOut*dOlOut_dOlNet\n",
        "      return dE_dOlNet\n",
        "\n",
        "    def getPartialWeightsToOl(self):\n",
        "      dE_dOlNet=self.get_dE_dOlNet()\n",
        "      dE_dOlNet=dE_dOlNet.reshape(1,len(dE_dOlNet))\n",
        "      dOlNet_dWOl=self.get_dOlNet_dWOl()\n",
        "      return dOlNet_dWOl@dE_dOlNet\n",
        "\n",
        "    def getNextWeightsToOl(self):\n",
        "      partialWeightsToOl=self.getPartialWeightsToOl()\n",
        "      nextWeightsToOl=self.weightsToOl-lr*partialWeightsToOl\n",
        "      return nextWeightsToOl\n",
        "\n",
        "    ########## updating weights to hidden layer below\n",
        "\n",
        "    def get_dE_dHlOut(self):\n",
        "      dE_dOlNet=self.get_dE_dOlNet()\n",
        "      dE_dOlNet=dE_dOlNet.reshape(np.size(dE_dOlNet),1)\n",
        "      weightsToOlWithoutBias=np.delete(self.weightsToOl,2,0)\n",
        "      dOlNet_dHlOut=weightsToOlWithoutBias\n",
        "      return dOlNet_dHlOut@dE_dOlNet\n",
        "\n",
        "    def get_dHlOut_dHlNet(self):\n",
        "      hlNet=self.getHlNet() \n",
        "      return self.sigmoid(hlNet,derivative=True)\n",
        "\n",
        "    def get_dHlNet_dWHl(self):\n",
        "      inputsWithBias = np.array([*self.inputs,1])\n",
        "      return inputsWithBias.reshape(len(inputsWithBias),1)\n",
        "\n",
        "    def get_dE_dHlNet(self):\n",
        "      dE_dHlOut=self.get_dE_dHlOut().flatten()\n",
        "      dHlOut_dHlNet=self.get_dHlOut_dHlNet()\n",
        "      return dE_dHlOut*dHlOut_dHlNet\n",
        "\n",
        "    # create a function to calculate the change in total error with \n",
        "    # respect to each weight connected to the hidden nodes\n",
        "    def getPartialWeightsToHl(self):\n",
        "      dE_dHlNet=self.get_dE_dHlNet()\n",
        "      dE_dHlNet=dE_dHlNet.reshape(1,len(dE_dHlNet))\n",
        "      dHlNet_dWHl=self.get_dHlNet_dWHl()\n",
        "      return dHlNet_dWHl@dE_dHlNet\n",
        "\n",
        "    def getNextWeightsToHl(self):\n",
        "      partialWeightsToHl=self.getPartialWeightsToHl()\n",
        "      nextWeightsToHl=self.weightsToHl-self.lr*partialWeightsToHl\n",
        "      return nextWeightsToHl\n",
        "\n",
        "    def getNextWeightsToHl(self):\n",
        "      partialWeightsToHl=self.getPartialWeightsToHl()\n",
        "      nextWeightsToHl=self.weightsToHl-lr*partialWeightsToHl\n",
        "      return nextWeightsToHl\n",
        "\n",
        "net=NeuralNet(inputs,outputs,lr)\n",
        "net.getNextWeightsToHl()"
      ],
      "metadata": {
        "id": "fYMcknEmySg5"
      },
      "execution_count": null,
      "outputs": []
    }
  ],
  "metadata": {
    "kernelspec": {
      "display_name": "Python 3.9.7 64-bit",
      "language": "python",
      "name": "python3"
    },
    "language_info": {
      "name": "python",
      "version": "3.9.7"
    },
    "orig_nbformat": 4,
    "vscode": {
      "interpreter": {
        "hash": "5974ac25dc9be56ffc04c26f1dcea484687dd3721d1ee5a9c3f4a235d03fe9b9"
      }
    },
    "colab": {
      "name": "lesson-03.ipynb",
      "provenance": []
    }
  },
  "nbformat": 4,
  "nbformat_minor": 0
}