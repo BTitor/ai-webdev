{
  "nbformat": 4,
  "nbformat_minor": 0,
  "metadata": {
    "colab": {
      "name": "AI-Webdev-L01.ipynb",
      "provenance": [],
      "collapsed_sections": []
    },
    "kernelspec": {
      "name": "python3",
      "display_name": "Python 3"
    },
    "language_info": {
      "name": "python"
    }
  },
  "cells": [
    {
      "cell_type": "markdown",
      "source": [
        "<center><h1>AI in Web Development</h1></center>\n",
        "<center><h2>Lesson 01</h2></center>\n",
        "<br/>\n",
        "\n",
        "#Course Goals:\n",
        "\n",
        "- languages:\n",
        "  - bash\n",
        "  - python\n",
        "  - javascript\n",
        "  - typescript\n",
        "  - OpenGL Shading Language (glsl)\n",
        "  - html\n",
        "  - css\n",
        "- version control: \n",
        "  - github\n",
        "- development environments\n",
        "  - vscode\n",
        "  - kaggle\n",
        "  - colab\n",
        "- deep learning libraries\n",
        " - keras\n",
        " - pytorch\n",
        " - tensorflow\n",
        "- javascript libraries\n",
        " - React\n",
        " - Threejs\n",
        "\n"
      ],
      "metadata": {
        "id": "TQw5mp55gVz5"
      }
    },
    {
      "cell_type": "markdown",
      "source": [
        "// bioneuron\n",
        "Output magnitude doesn't change\n",
        "more neurons firing simultaneously = greater strength \n",
        "\n",
        "//perceptron\n",
        "no concept of time\n",
        "output magnitude changes with weights"
      ],
      "metadata": {
        "id": "hVjuX0WHCcms"
      }
    },
    {
      "cell_type": "markdown",
      "source": [
        "<h1 align='center'>Install Software</h1>\n",
        "\n",
        "<ol>\n",
        "<h3><li>Click on the link below to download vscode</li></h3>\n",
        "<ul><li><a>https://code.visualstudio.com/Download</a></li></ul>\n",
        "<h3><li>Download the following vscode extensions</li></h3>\n",
        "<ul>\n",
        "<li><a>https://marketplace.visualstudio.com/items?itemName=ms-python.python</a></li>\n",
        "<li><a>https://marketplace.visualstudio.com/items?itemName=ms-toolsai.jupyter</a></li>\n",
        "<li><a>https://marketplace.visualstudio.com/items?itemName=VisualStudioExptTeam.vscodeintellicode</a></li>\n",
        "<li><a href='https://marketplace.visualstudio.com/items?itemName=alefragnani.project-manager'=>project-manager</a></li>\n",
        "</ul>\n",
        "<h3><li>Download Miniconda</li></h3>\n",
        "<ul><li><a href='https://docs.conda.io/en/latest/miniconda.html'>Miniconda</a></li></ul>\n",
        "<h3><li>Download the following vscode extensions</li></h3>\n",
        "<ul><li><a href='https://git-scm.com/downloads'>git command line tool </a></li></ul>\n",
        "</ol>\n",
        "\n",
        "\n",
        "\n"
      ],
      "metadata": {
        "id": "VUicmt8wCv_5"
      }
    },
    {
      "cell_type": "markdown",
      "source": [
        "\n",
        "<h1 align='center'>Fork Github Repository</h1>\n",
        "\n"
      ],
      "metadata": {
        "id": "1mZIwKog5_FJ"
      }
    },
    {
      "cell_type": "markdown",
      "source": [
        "Cheat sheet here\n",
        "\n",
        "https://www.git-tower.com/blog/command-line-cheat-sheet/\n",
        "1. asdf\n",
        "2. fsdf\n"
      ],
      "metadata": {
        "id": "nccFp9rtmCLe"
      }
    },
    {
      "cell_type": "code",
      "source": [
        ""
      ],
      "metadata": {
        "id": "wZQSTt8jhR7q"
      },
      "execution_count": null,
      "outputs": []
    },
    {
      "cell_type": "code",
      "execution_count": null,
      "metadata": {
        "id": "QAz0w-FxgUuY"
      },
      "outputs": [],
      "source": [
        "import numpy as np\n",
        "\n",
        "def sigmoid(x):\n",
        "  return 1/(1+np.exp(-x))\n",
        "\n",
        "\n",
        "hidden_weight_matrix=np.array([[.15,0.25],[0.2,0.3],[0.35,0.35]])\n",
        "output_weight_matrix=np.array([[.4,0.5],[0.45,0.55],[0.6,0.6]])\n",
        "input_array=[0.05,0.1]\n",
        "def hidden_layer(inputs=input_array,weights=hidden_weight_matrix,act_fn=sigmoid):\n",
        "  inputs_with_bias=np.array([*inputs,1])\n",
        "  net_nodes=inputs_with_bias@weights\n",
        "  # print(net_nodes)\n",
        "  return act_fn(net_nodes)\n",
        "\n",
        "hidden_layer()\n",
        "# output_layer()"
      ]
    }
  ]
}