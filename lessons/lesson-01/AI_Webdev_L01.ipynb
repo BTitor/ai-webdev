{
  "nbformat": 4,
  "nbformat_minor": 0,
  "metadata": {
    "colab": {
      "name": "AI-Webdev-L01.ipynb",
      "provenance": [],
      "collapsed_sections": [],
      "toc_visible": true
    },
    "kernelspec": {
      "name": "python3",
      "display_name": "Python 3"
    },
    "language_info": {
      "name": "python"
    }
  },
  "cells": [
    {
      "cell_type": "markdown",
      "source": [
        "<center><h1>AI in Web Development</h1></center>\n",
        "<center><h2>Lesson 01</h2></center>\n",
        "<br/>\n",
        "\n",
        "#Course Goals:\n",
        "\n",
        "- languages:\n",
        "  - bash\n",
        "  - python\n",
        "  - javascript\n",
        "  - typescript\n",
        "  - OpenGL Shading Language (glsl)\n",
        "  - html\n",
        "  - css\n",
        "- version control: \n",
        "  - github\n",
        "- development environments\n",
        "  - vscode\n",
        "  - kaggle\n",
        "  - colab\n",
        "- deep learning libraries\n",
        " - keras\n",
        " - pytorch\n",
        " - tensorflow\n",
        "- javascript libraries\n",
        " - React\n",
        " - Threejs\n",
        "\n"
      ],
      "metadata": {
        "id": "TQw5mp55gVz5"
      }
    },
    {
      "cell_type": "code",
      "source": [
        ""
      ],
      "metadata": {
        "id": "a96qIwEIKJOK"
      },
      "execution_count": null,
      "outputs": []
    },
    {
      "cell_type": "markdown",
      "source": [
        "<h1 align='center'>Install Software</h1>\n",
        "\n",
        "\n",
        "<ol>\n",
        "<h3><li>Install Google Chrome</li></h3>\n",
        "<ul><li><a href='https://www.google.com/chrome/downloads/'>Google Chrome</a></li></ul>\n",
        "<h3><li>Install GitHub/Colab Chrome </li></h3>\n",
        "<ul><li><a href='https://chrome.google.com/webstore/detail/open-in-colab/iogfkhleblhcpcekbiedikdehleodpjo?hl=en/'>Open in Colab Extension</a></li></ul>\n",
        "<h3><li>Download Visual Studio Code</li></h3>\n",
        "<ul><li><a href=\"https://code.visualstudio.com/Download\">Visual Studeo Code</a></li></ul>\n",
        "<h3><li>Download the following vscode extensions</li></h3>\n",
        "<ul>\n",
        "<li><a href='https://marketplace.visualstudio.com/items?itemName=ms-python.python'>Python</a></li>\n",
        "<li><a href=\"https://marketplace.visualstudio.com/items?itemName=ms-toolsai.jupyter\">Jupyter Notebooks</a></li>\n",
        "<li><a href=\"https://marketplace.visualstudio.com/items?itemName=VisualStudioExptTeam.vscodeintellicode\">IntelliCode</a></li>\n",
        "<li><a href='https://marketplace.visualstudio.com/items?itemName=alefragnani.project-manager'=>project-manager</a></li>\n",
        "</ul>\n",
        "<h3><li>Download Miniconda</li></h3>\n",
        "<ul><li><a href='https://docs.conda.io/en/latest/miniconda.html'>Miniconda</a></li></ul>\n",
        "<h3><li>Download the following vscode extensions</li></h3>\n",
        "<ul><li><a href='https://git-scm.com/downloads'>git command line tool </a></li></ul>\n",
        "</ol>\n",
        "\n",
        "\n",
        "\n"
      ],
      "metadata": {
        "id": "VUicmt8wCv_5"
      }
    },
    {
      "cell_type": "markdown",
      "source": [
        "\n",
        "<h1 align='center'>Fork Github Repository</h1>\n",
        "<img src=\"https://github.com/snsie/ai-webdev/raw/main/images/fork_button.png\" alt=\"fork button image\" />"
      ],
      "metadata": {
        "id": "1mZIwKog5_FJ"
      }
    },
    {
      "cell_type": "markdown",
      "source": [
        "Cheat sheet here\n",
        "\n",
        "https://www.git-tower.com/blog/command-line-cheat-sheet/\n",
        "1. asdf\n",
        "2. fsdf\n",
        "3. asdfsdf"
      ],
      "metadata": {
        "id": "nccFp9rtmCLe"
      }
    },
    {
      "cell_type": "markdown",
      "source": [
        "<h1 align='center'>Biological Neuron</h1>\n",
        "\n",
        "---\n",
        "\n",
        "<br/>\n",
        "<center><img  src=\"https://github.com/snsie/ai-webdev/raw/main/images/biological-neuron.png\" alt='biological neuron'/></center>\n",
        "Output magnitude doesn't change\n",
        "\n",
        "\n"
      ],
      "metadata": {
        "id": "wQJrduyGKPX5"
      }
    },
    {
      "cell_type": "markdown",
      "source": [
        "#<center> Perceptron\n",
        "no concept of time\n",
        "output magnitude changes with weights\n",
        "<center><img  src=\"https://github.com/snsie/ai-webdev/blob/main/images/perceptron.png?raw=true\" alt='biological neuron'/></center>"
      ],
      "metadata": {
        "id": "pqILePI_Onpk"
      }
    },
    {
      "cell_type": "markdown",
      "source": [
        "#Activation Functions\n",
        "<img src=\"https://github.com/snsie/ai-webdev/blob/main/images/activation_functions.png?raw=true\"/>\n",
        "<center><a href=\"https://en.wikipedia.org/wiki/Activation_function\">Wiki Page</a></center>"
      ],
      "metadata": {
        "id": "1ejIFLF5pMYd"
      }
    },
    {
      "cell_type": "code",
      "source": [
        "import numpy as np\n",
        "import matplotlib.pyplot as plt"
      ],
      "metadata": {
        "id": "JKa--VxTuWBO"
      },
      "execution_count": 5,
      "outputs": []
    },
    {
      "cell_type": "code",
      "source": [
        "def identity(x):\n",
        "  return x"
      ],
      "metadata": {
        "id": "EKuzfCDGvtOR"
      },
      "execution_count": 26,
      "outputs": []
    },
    {
      "cell_type": "code",
      "source": [
        "def sigmoid(x):\n",
        "  return 1/(1+np.exp(-x))"
      ],
      "metadata": {
        "id": "-hBl0XvKwFkH"
      },
      "execution_count": 30,
      "outputs": []
    },
    {
      "cell_type": "code",
      "source": [
        "def relu(x):\n",
        "  if x > 0:\n",
        "    return x\n",
        "  return 0"
      ],
      "metadata": {
        "id": "l4dCjajFxiEr"
      },
      "execution_count": 32,
      "outputs": []
    },
    {
      "cell_type": "code",
      "source": [
        "def tanh(x):\n",
        "  return (np.exp(x)-np.exp(-x))/(np.exp(x)+np.exp(-x))"
      ],
      "metadata": {
        "id": "qmRecrGZxiLp"
      },
      "execution_count": 25,
      "outputs": []
    },
    {
      "cell_type": "code",
      "source": [
        "actFns = [identity,sigmoid,tanh,relu]\n",
        "\n",
        "def plotActFnOutput(x,actFn):\n",
        "  y=[]\n",
        "  for currX in x:\n",
        "    y.append(actFn(currX))\n",
        "  plt.plot(x, y)\n",
        "  plt.show()\n",
        "\n",
        "x = np.linspace(-3,3, 200)\n",
        "\n",
        "plotActFnOutput(x,relu)\n",
        "# for actFn in actFns:\n",
        "#   x = np.linspace(-3,3, 200)\n",
        "#   y=[]\n",
        "#   for currX in x:\n",
        "#     y.append(actFn(currX))\n",
        "#   # y = actFn(x)\n",
        "#   plt.plot(x, y)\n",
        "\n",
        "\n",
        "# plt.show()\n",
        "# # def plotActFn():\n",
        "  "
      ],
      "metadata": {
        "colab": {
          "base_uri": "https://localhost:8080/",
          "height": 265
        },
        "id": "OkqIvEbFuvNI",
        "outputId": "93fc11ef-d8ab-4eef-9556-d0b96640b789"
      },
      "execution_count": 37,
      "outputs": [
        {
          "output_type": "display_data",
          "data": {
            "text/plain": [
              "<Figure size 432x288 with 1 Axes>"
            ],
            "image/png": "[encoded data removed]"
          },
          "metadata": {
            "needs_background": "light"
          }
        }
      ]
    },
    {
      "cell_type": "code",
      "source": [
        "x = np.linspace(-3,3, 200)\n",
        "result = x >= 0\n",
        "# mask = arr >= 0\n",
        "arr[mask] = 1\n",
        "arr[~mask] = 0\n",
        "print(result)"
      ],
      "metadata": {
        "id": "uIbp-0wZzTuG",
        "outputId": "65414fdb-f61b-4c31-a853-064e519fdee3",
        "colab": {
          "base_uri": "https://localhost:8080/"
        }
      },
      "execution_count": 33,
      "outputs": [
        {
          "output_type": "stream",
          "name": "stdout",
          "text": [
            "[False False False False False False False False False False False False\n",
            " False False False False False False False False False False False False\n",
            " False False False False False False False False False False False False\n",
            " False False False False False False False False False False False False\n",
            " False False False False False False False False False False False False\n",
            " False False False False False False False False False False False False\n",
            " False False False False False False False False False False False False\n",
            " False False False False False False False False False False False False\n",
            " False False False False  True  True  True  True  True  True  True  True\n",
            "  True  True  True  True  True  True  True  True  True  True  True  True\n",
            "  True  True  True  True  True  True  True  True  True  True  True  True\n",
            "  True  True  True  True  True  True  True  True  True  True  True  True\n",
            "  True  True  True  True  True  True  True  True  True  True  True  True\n",
            "  True  True  True  True  True  True  True  True  True  True  True  True\n",
            "  True  True  True  True  True  True  True  True  True  True  True  True\n",
            "  True  True  True  True  True  True  True  True  True  True  True  True\n",
            "  True  True  True  True  True  True  True  True]\n"
          ]
        }
      ]
    },
    {
      "cell_type": "markdown",
      "source": [
        "Open Neural Network Playground"
      ],
      "metadata": {
        "id": "7MNCpXJQQl0M"
      }
    },
    {
      "cell_type": "code",
      "execution_count": null,
      "metadata": {
        "id": "QAz0w-FxgUuY"
      },
      "outputs": [],
      "source": [
        "import numpy as np\n",
        "\n",
        "def sigmoid(x):\n",
        "  return 1/(1+np.exp(-x))\n",
        "\n",
        "\n",
        "hidden_weight_matrix=np.array([[.15,0.25],[0.2,0.3],[0.35,0.35]])\n",
        "output_weight_matrix=np.array([[.4,0.5],[0.45,0.55],[0.6,0.6]])\n",
        "input_array=[0.05,0.1]\n",
        "def hidden_layer(inputs=input_array,weights=hidden_weight_matrix,act_fn=sigmoid):\n",
        "  inputs_with_bias=np.array([*inputs,1])\n",
        "  net_nodes=inputs_with_bias@weights\n",
        "  # print(net_nodes)\n",
        "  return act_fn(net_nodes)\n",
        "\n",
        "hidden_layer()\n",
        "# output_layer()"
      ]
    }
  ]
}