{
  "cells": [
    {
      "cell_type": "code",
      "execution_count": null,
      "metadata": {
        "colab": {
          "base_uri": "https://localhost:8080/"
        },
        "id": "lnUBGfI2vf3M",
        "outputId": "0ccd1795-00f6-4cdb-879c-7e8278a073f3"
      },
      "outputs": [
        {
          "data": {
            "text/plain": [
              "array([0.59326999, 0.59688438])"
            ]
          },
          "execution_count": 95,
          "metadata": {},
          "output_type": "execute_result"
        }
      ],
      "source": [
        "import numpy as np\n",
        "\n",
        "def sigmoid(x):\n",
        "  return 1/(1+np.exp(-x))\n",
        "\n",
        "\n",
        "hidden_weight_matrix=np.array([[.15,0.25],[0.2,0.3],[0.35,0.35]])\n",
        "output_weight_matrix=np.array([[.4,0.5],[0.45,0.55],[0.6,0.6]])\n",
        "input_array=[0.05,0.1]\n",
        "def hidden_layer(inputs=input_array,weights=hidden_weight_matrix,act_fn=sigmoid):\n",
        "  inputs_with_bias=np.array([*inputs,1])\n",
        "  net_nodes=inputs_with_bias@weights\n",
        "  # print(net_nodes)\n",
        "  return act_fn(net_nodes)\n",
        "\n",
        "hidden_layer()\n",
        "# output_layer()"
      ]
    },
    {
      "cell_type": "markdown",
      "metadata": {},
      "source": []
    },
    {
      "cell_type": "markdown",
      "metadata": {
        "id": "wMeTLk1CxtIg"
      },
      "source": []
    },
    {
      "cell_type": "markdown",
      "metadata": {
        "id": "-H4TVvQ9JMxD"
      },
      "source": [
        "<h1><center>hid</h1>\n"
      ]
    },
    {
      "cell_type": "code",
      "execution_count": null,
      "metadata": {
        "colab": {
          "base_uri": "https://localhost:8080/"
        },
        "id": "UZ2HJ-2VBdb_",
        "outputId": "40d94efa-3a3a-4001-dd45-9928b5e4dc29"
      },
      "outputs": [
        {
          "name": "stdout",
          "output_type": "stream",
          "text": [
            "[0.75136507 0.77292847]\n"
          ]
        }
      ],
      "source": [
        "def output_layer():\n",
        "  hidden_outputs=hidden_layer(inputs,hidden_weight_matrix,sigmoid)\n",
        "  outputs=hidden_layer(hidden_outputs,output_weight_matrix,sigmoid)\n",
        "  print(outputs)\n",
        "output_layer()"
      ]
    },
    {
      "cell_type": "code",
      "execution_count": null,
      "metadata": {
        "colab": {
          "base_uri": "https://localhost:8080/"
        },
        "id": "HhxWxP7mwOID",
        "outputId": "d8435ece-088c-4949-83bf-15beefdd4320"
      },
      "outputs": [
        {
          "name": "stdout",
          "output_type": "stream",
          "text": [
            "[0.05, 0.1]\n"
          ]
        }
      ],
      "source": [
        "inputs=[0.05,0.1]\n",
        "print(inputs)"
      ]
    }
  ],
  "metadata": {
    "colab": {
      "collapsed_sections": [],
      "name": "AI_in_WebDev_L01.ipynb",
      "provenance": []
    },
    "kernelspec": {
      "display_name": "Python 3.9.7 64-bit",
      "language": "python",
      "name": "python3"
    },
    "language_info": {
      "name": "python",
      "version": "3.9.7"
    },
    "vscode": {
      "interpreter": {
        "hash": "5974ac25dc9be56ffc04c26f1dcea484687dd3721d1ee5a9c3f4a235d03fe9b9"
      }
    }
  },
  "nbformat": 4,
  "nbformat_minor": 0
}
