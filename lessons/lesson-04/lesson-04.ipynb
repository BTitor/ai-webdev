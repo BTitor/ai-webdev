{
  "cells": [
    {
      "cell_type": "markdown",
      "source": [
        "<center><h1>AI in Web Development</h1></center>\n",
        "\n",
        "---\n",
        "\n",
        "<center><h2>Lesson 04</h2></center>\n",
        "\n",
        "\n",
        "[![Open In Colab](https://colab.research.google.com/assets/colab-badge.svg)](https://colab.research.google.com/github/snsie/ai-webdev/blob/main/lessons/lesson-04/lesson-04.ipynb)"
      ],
      "metadata": {
        "id": "IPgoWtoIJQOi"
      }
    },
    {
      "cell_type": "markdown",
      "source": [
        "This notebook is based on [this example](https://colab.research.google.com/github/ehennis/ReinforcementLearning/blob/master/05-DQN.ipynb#scrollTo=DPWjJiOZ2uVd) and [this example](https://colab.research.google.com/github/Curt-Park/rainbow-is-all-you-need/blob/master/01.dqn.ipynb)\n",
        "\n"
      ],
      "metadata": {
        "id": "KPb9IjzQmKOU"
      }
    },
    {
      "cell_type": "markdown",
      "metadata": {
        "id": "Pf4_QpE72uVZ"
      },
      "source": [
        "<h1 align=\"center\">Reinforcement Learning (RL)</h1>"
      ]
    },
    {
      "cell_type": "markdown",
      "source": [
        "<center><img src=\"https://github.com/snsie/ai-webdev/blob/main/images/what-is-reinforcement-learning.png?raw=true\" width='320px'/></center>\n"
      ],
      "metadata": {
        "id": "VqGHxllEo3h7"
      }
    },
    {
      "cell_type": "markdown",
      "source": [
        "###Environment\n",
        "  * The stage that contains the simulation\n",
        "\n",
        "<br/>\n",
        "\n",
        "###Agent\n",
        "  * The entity making decisions\n",
        "  * Can be represented as a neural network\n",
        "\n",
        "<br/>\n",
        "\n",
        "###States\n",
        "* Set of observations that agents that can be performed by the agent\n",
        "* example: agent's position\n",
        "\n",
        "<br/>\n",
        "\n",
        "###Actions\n",
        "* Set of activities that can be performed by the agent\n",
        "* example: move right, move left\n",
        "\n",
        "<br/>\n",
        "\n",
        "###Rewards\n",
        "* Provides agents feedback about their performance\n"
      ],
      "metadata": {
        "id": "sdedL4816Qp5"
      }
    },
    {
      "cell_type": "markdown",
      "source": [
        "<center><h1>Cart Pole Example</h1></center>\n",
        "\n",
        "---\n",
        "\n",
        "<center><h4>the cart's goal: balance the pole</h4></center>\n",
        "\n",
        "\n",
        "[Gym Docs](https://www.gymlibrary.ml/environments/classic_control/cart_pole/)"
      ],
      "metadata": {
        "id": "P12W_YPa09UE"
      }
    },
    {
      "cell_type": "markdown",
      "source": [
        "|Bad Cart          |  Good Cart  |\n",
        "|:-------------------------:|:-------------------------:|\n",
        "| <img src='https://github.com/snsie/ai-webdev/blob/main/images/cartpole-initial.gif?raw=true' width=\"300\"/>  | <img src='https://github.com/snsie/ai-webdev/blob/main/images/cartpole-trained.gif?raw=true' width=\"300\"/> |"
      ],
      "metadata": {
        "id": "A-YYa0w41cqt"
      }
    },
    {
      "cell_type": "markdown",
      "metadata": {
        "id": "Z2Fqe9TO2uVd"
      },
      "source": [
        "<center><h3><u>Actions</u></h3></center>\n",
        "\n",
        "| Num | Action                 |\n",
        "|-----|------------------------|\n",
        "| 0   | Push cart to the left  |\n",
        "| 1   | Push cart to the right |\n",
        "\n",
        "<br/>\n",
        "<br/>\n",
        "\n",
        "<center><h3><u>States</u></h3></center>\n",
        "\n",
        "| Num | Observation           | Min                 | Max               |\n",
        "|-----|-----------------------|:-------------------|:-----------------|\n",
        "| 0   | Cart Position         | -4.8                | 4.8               |\n",
        "| 1   | Cart Velocity         | -Inf                | Inf               |\n",
        "| 2   | Pole Angle            | ~ -0.418 rad (-24°) | ~ 0.418 rad (24°) |\n",
        "| 3   | Pole Angular Velocity | -Inf                | Inf               |\n",
        "\n",
        "<br/>\n",
        "\n",
        "[Cart Pole Python File](https://github.com/openai/gym/blob/master/gym/envs/classic_control/cartpole.py)"
      ]
    },
    {
      "cell_type": "markdown",
      "source": [
        "RL Algorithm to be used in this example:\n",
        "\n",
        "<center><h1>Q-learning</h1></center>\n",
        "\n",
        "<br/>\n",
        "\n",
        "<h4>\n",
        "\\begin{align}\n",
        "Q(s,a) = r(s,a) + \\gamma \\cdot \\max_{a} Q(s',a')\n",
        "\\end{align}\n",
        "</h4>\n",
        "\n",
        "<br/>\n",
        "\n",
        "###$Q(s,a)$ = Q-value\n",
        "\n",
        "###$r(s,a)$ = reward for current action\n",
        "\n",
        "###$\\gamma$ = parameter that scales: $\\max_{a}Q(s',a')$\n",
        "\n",
        "###$\\max_{a}Q(s',a')$ = Maximum Q-value predicted in the next state \n",
        "\n",
        "<br/>\n",
        "\n",
        "---"
      ],
      "metadata": {
        "id": "u1IqACZf-7yG"
      }
    },
    {
      "cell_type": "markdown",
      "source": [
        "<h3>Long term interpretation of Q:</h3>\n",
        "<h3>\n",
        "$$\n",
        "Q(s_t,a_t) = r(t) + \\gamma \\cdot r(t+1) + \\gamma^2 \\cdot r(t+2) +  \\gamma^3 \\cdot r(t+3) \\ ...\n",
        "$$\n",
        "</h3>"
      ],
      "metadata": {
        "id": "EtMh6rUaKpep"
      }
    },
    {
      "cell_type": "code",
      "source": [
        "import sys\n",
        "IN_COLAB = \"google.colab\" in sys.modules\n",
        "\n",
        "if IN_COLAB:\n",
        "    !apt install python-opengl\n",
        "    !apt install ffmpeg\n",
        "    !apt install xvfb\n",
        "    !pip install PyVirtualDisplay==3.0\n",
        "    !pip install gym==0.21.0\n",
        "    from pyvirtualdisplay import Display\n",
        "    \n",
        "    # Start virtual display\n",
        "    dis = Display(visible=0, size=(400, 400))\n",
        "    dis.start()"
      ],
      "metadata": {
        "id": "KtRw868MHSEj",
        "outputId": "49e4eb04-c9b6-4a57-ed70-76231a37b830",
        "colab": {
          "base_uri": "https://localhost:8080/"
        }
      },
      "execution_count": 1,
      "outputs": [
        {
          "output_type": "stream",
          "name": "stdout",
          "text": [
            "Reading package lists... Done\n",
            "Building dependency tree       \n",
            "Reading state information... Done\n",
            "python-opengl is already the newest version (3.1.0+dfsg-1).\n",
            "The following package was automatically installed and is no longer required:\n",
            "  libnvidia-common-460\n",
            "Use 'apt autoremove' to remove it.\n",
            "0 upgraded, 0 newly installed, 0 to remove and 49 not upgraded.\n",
            "Reading package lists... Done\n",
            "Building dependency tree       \n",
            "Reading state information... Done\n",
            "ffmpeg is already the newest version (7:3.4.11-0ubuntu0.1).\n",
            "The following package was automatically installed and is no longer required:\n",
            "  libnvidia-common-460\n",
            "Use 'apt autoremove' to remove it.\n",
            "0 upgraded, 0 newly installed, 0 to remove and 49 not upgraded.\n",
            "Reading package lists... Done\n",
            "Building dependency tree       \n",
            "Reading state information... Done\n",
            "xvfb is already the newest version (2:1.19.6-1ubuntu4.11).\n",
            "The following package was automatically installed and is no longer required:\n",
            "  libnvidia-common-460\n",
            "Use 'apt autoremove' to remove it.\n",
            "0 upgraded, 0 newly installed, 0 to remove and 49 not upgraded.\n",
            "Looking in indexes: https://pypi.org/simple, https://us-python.pkg.dev/colab-wheels/public/simple/\n",
            "Requirement already satisfied: PyVirtualDisplay==3.0 in /usr/local/lib/python3.7/dist-packages (3.0)\n",
            "Looking in indexes: https://pypi.org/simple, https://us-python.pkg.dev/colab-wheels/public/simple/\n",
            "Requirement already satisfied: gym==0.21.0 in /usr/local/lib/python3.7/dist-packages (0.21.0)\n",
            "Requirement already satisfied: importlib-metadata>=4.8.1 in /usr/local/lib/python3.7/dist-packages (from gym==0.21.0) (4.12.0)\n",
            "Requirement already satisfied: numpy>=1.18.0 in /usr/local/lib/python3.7/dist-packages (from gym==0.21.0) (1.21.6)\n",
            "Requirement already satisfied: cloudpickle>=1.2.0 in /usr/local/lib/python3.7/dist-packages (from gym==0.21.0) (1.3.0)\n",
            "Requirement already satisfied: zipp>=0.5 in /usr/local/lib/python3.7/dist-packages (from importlib-metadata>=4.8.1->gym==0.21.0) (3.8.1)\n",
            "Requirement already satisfied: typing-extensions>=3.6.4 in /usr/local/lib/python3.7/dist-packages (from importlib-metadata>=4.8.1->gym==0.21.0) (4.1.1)\n"
          ]
        }
      ]
    },
    {
      "cell_type": "code",
      "execution_count": 2,
      "metadata": {
        "id": "DPWjJiOZ2uVd"
      },
      "outputs": [],
      "source": [
        "import os\n",
        "from typing import Dict, List, Tuple\n",
        "\n",
        "import gym\n",
        "import matplotlib.pyplot as plt\n",
        "import numpy as np\n",
        "import torch\n",
        "import torch.nn as nn\n",
        "import torch.nn.functional as F\n",
        "import torch.optim as optim\n",
        "from IPython.display import clear_output"
      ]
    },
    {
      "cell_type": "markdown",
      "source": [
        "## Replay buffer\n",
        "\n",
        "Typically, people implement replay buffers with one of the following three data structures:\n",
        "\n",
        "  - collections.deque\n",
        "  - list\n",
        "  - numpy.ndarray\n",
        "  \n",
        "**deque** is very easy to handle once you initialize its maximum length (e.g. deque(maxlen=buffer_size)). However, the indexing operation of deque gets terribly slow as it grows up because it is [internally doubly linked list](https://wiki.python.org/moin/TimeComplexity#collections.deque). On the other hands, **list** is an array, so it is relatively faster than deque when you sample batches at every step. Its amortized cost of  *Get item* is [O(1)](https://wiki.python.org/moin/TimeComplexity#list).\n",
        "\n",
        "Last but not least, let's see **numpy.ndarray**. numpy.ndarray is even faster than list due to the fact that it is [a homogeneous array of fixed-size items](https://docs.scipy.org/doc/numpy/reference/generated/numpy.ndarray.html#numpy.ndarray), so you can get the benefits of [locality of reference](https://en.wikipedia.org/wiki/Locality_of_reference). Whereas list is an array of pointers to objects, even when all of them are of the same type.\n",
        "\n",
        "Here, we are going to implement a replay buffer using numpy.ndarray.\n",
        "\n",
        "\n",
        "Reference: [OpenAI spinning-up](https://github.com/openai/spinningup/blob/master/spinup/algos/sac/sac.py#L10)"
      ],
      "metadata": {
        "id": "rj0SrJzkY5xY"
      }
    },
    {
      "cell_type": "code",
      "execution_count": 3,
      "metadata": {
        "id": "7CsaVrbA2uVp"
      },
      "outputs": [],
      "source": [
        "class ReplayBuffer:\n",
        "    \"\"\"A simple numpy replay buffer.\"\"\"\n",
        "\n",
        "    def __init__(self, obs_dim: int, size: int, batch_size: int = 32):\n",
        "        self.obs_buf = np.zeros([size, obs_dim], dtype=np.float32)\n",
        "        self.next_obs_buf = np.zeros([size, obs_dim], dtype=np.float32)\n",
        "        self.acts_buf = np.zeros([size], dtype=np.float32)\n",
        "        self.rews_buf = np.zeros([size], dtype=np.float32)\n",
        "        self.done_buf = np.zeros(size, dtype=np.float32)\n",
        "        self.max_size, self.batch_size = size, batch_size\n",
        "        self.ptr, self.size, = 0, 0\n",
        "\n",
        "    def store(\n",
        "        self,\n",
        "        obs: np.ndarray,\n",
        "        act: np.ndarray, \n",
        "        rew: float, \n",
        "        next_obs: np.ndarray, \n",
        "        done: bool,\n",
        "    ):\n",
        "        self.obs_buf[self.ptr] = obs\n",
        "        self.next_obs_buf[self.ptr] = next_obs\n",
        "        self.acts_buf[self.ptr] = act\n",
        "        self.rews_buf[self.ptr] = rew\n",
        "        self.done_buf[self.ptr] = done\n",
        "        self.ptr = (self.ptr + 1) % self.max_size\n",
        "        self.size = min(self.size + 1, self.max_size)\n",
        "\n",
        "    def sample_batch(self) -> Dict[str, np.ndarray]:\n",
        "        idxs = np.random.choice(self.size, size=self.batch_size, replace=False)\n",
        "        return dict(obs=self.obs_buf[idxs],\n",
        "                    next_obs=self.next_obs_buf[idxs],\n",
        "                    acts=self.acts_buf[idxs],\n",
        "                    rews=self.rews_buf[idxs],\n",
        "                    done=self.done_buf[idxs])\n",
        "\n",
        "    def __len__(self) -> int:\n",
        "        return self.size"
      ]
    },
    {
      "cell_type": "markdown",
      "source": [
        "## Network\n",
        "\n",
        "We are going to use a simple network architecture with three fully connected layers and two non-linearity functions (ReLU)."
      ],
      "metadata": {
        "id": "hyKWUadCZASY"
      }
    },
    {
      "cell_type": "code",
      "source": [
        "class Network(nn.Module):\n",
        "    def __init__(self, in_dim: int, out_dim: int):\n",
        "        \"\"\"Initialization.\"\"\"\n",
        "        super(Network, self).__init__()\n",
        "\n",
        "        self.layers = nn.Sequential(\n",
        "            nn.Linear(in_dim, 128), \n",
        "            nn.ReLU(),\n",
        "            nn.Linear(128, 128), \n",
        "            nn.ReLU(), \n",
        "            nn.Linear(128, out_dim)\n",
        "        )\n",
        "\n",
        "    def forward(self, x: torch.Tensor) -> torch.Tensor:\n",
        "        \"\"\"Forward method implementation.\"\"\"\n",
        "        return self.layers(x)"
      ],
      "metadata": {
        "id": "KVleneWxZqGq"
      },
      "execution_count": 4,
      "outputs": []
    },
    {
      "cell_type": "markdown",
      "source": [
        "## DQN Agent\n",
        "\n",
        "Here is a summary of DQNAgent class.\n",
        "\n",
        "| Method           | Note                                                 |\n",
        "| ---              | ---                                                  |\n",
        "|select_action     | select an action from the input state.               |\n",
        "|step              | take an action and return the response of the env.   |\n",
        "|compute_dqn_loss  | return dqn loss.                                     |\n",
        "|update_model      | update the model by gradient descent.                |\n",
        "|target_hard_update| hard update from the local model to the target model.|\n",
        "|train             | train the agent during num_frames.                   |\n",
        "|test              | test the agent (1 episode).                          |\n",
        "|plot              | plot the training progresses.                        |\n"
      ],
      "metadata": {
        "id": "dx9OyOhCZKL4"
      }
    },
    {
      "cell_type": "code",
      "source": [
        "class DQNAgent:\n",
        "    \"\"\"DQN Agent interacting with environment.\n",
        "    \n",
        "    Attribute:\n",
        "        env (gym.Env): openAI Gym environment\n",
        "        memory (ReplayBuffer): replay memory to store transitions\n",
        "        batch_size (int): batch size for sampling\n",
        "        epsilon (float): parameter for epsilon greedy policy\n",
        "        epsilon_decay (float): step size to decrease epsilon\n",
        "        max_epsilon (float): max value of epsilon\n",
        "        min_epsilon (float): min value of epsilon\n",
        "        target_update (int): period for target model's hard update\n",
        "        gamma (float): discount factor\n",
        "        dqn (Network): model to train and select actions\n",
        "        dqn_target (Network): target model to update\n",
        "        optimizer (torch.optim): optimizer for training dqn\n",
        "        transition (list): transition information including \n",
        "                           state, action, reward, next_state, done\n",
        "    \"\"\"\n",
        "\n",
        "    def __init__(\n",
        "        self, \n",
        "        env: gym.Env,\n",
        "        memory_size: int,\n",
        "        batch_size: int,\n",
        "        target_update: int,\n",
        "        epsilon_decay: float,\n",
        "        max_epsilon: float = 1.0,\n",
        "        min_epsilon: float = 0.1,\n",
        "        gamma: float = 0.99,\n",
        "    ):\n",
        "        \"\"\"Initialization.\n",
        "        \n",
        "        Args:\n",
        "            env (gym.Env): openAI Gym environment\n",
        "            memory_size (int): length of memory\n",
        "            batch_size (int): batch size for sampling\n",
        "            target_update (int): period for target model's hard update\n",
        "            epsilon_decay (float): step size to decrease epsilon\n",
        "            lr (float): learning rate\n",
        "            max_epsilon (float): max value of epsilon\n",
        "            min_epsilon (float): min value of epsilon\n",
        "            gamma (float): discount factor\n",
        "        \"\"\"\n",
        "        obs_dim = env.observation_space.shape[0]\n",
        "        action_dim = env.action_space.n\n",
        "        \n",
        "        self.env = env\n",
        "        self.memory = ReplayBuffer(obs_dim, memory_size, batch_size)\n",
        "        self.batch_size = batch_size\n",
        "        self.epsilon = max_epsilon\n",
        "        self.epsilon_decay = epsilon_decay\n",
        "        self.max_epsilon = max_epsilon\n",
        "        self.min_epsilon = min_epsilon\n",
        "        self.target_update = target_update\n",
        "        self.gamma = gamma\n",
        "        \n",
        "        # device: cpu / gpu\n",
        "        self.device = torch.device(\n",
        "            \"cuda\" if torch.cuda.is_available() else \"cpu\"\n",
        "        )\n",
        "        print(self.device)\n",
        "\n",
        "        # networks: dqn, dqn_target\n",
        "        self.dqn = Network(obs_dim, action_dim).to(self.device)\n",
        "        self.dqn_target = Network(obs_dim, action_dim).to(self.device)\n",
        "        self.dqn_target.load_state_dict(self.dqn.state_dict())\n",
        "        self.dqn_target.eval()\n",
        "        \n",
        "        # optimizer\n",
        "        self.optimizer = optim.Adam(self.dqn.parameters())\n",
        "\n",
        "        # transition to store in memory\n",
        "        self.transition = list()\n",
        "        \n",
        "        # mode: train / test\n",
        "        self.is_test = False\n",
        "\n",
        "    def select_action(self, state: np.ndarray) -> np.ndarray:\n",
        "        \"\"\"Select an action from the input state.\"\"\"\n",
        "        # epsilon greedy policy\n",
        "        if self.epsilon > np.random.random():\n",
        "            selected_action = self.env.action_space.sample()\n",
        "        else:\n",
        "            selected_action = self.dqn(\n",
        "                torch.FloatTensor(state).to(self.device)\n",
        "            ).argmax()\n",
        "            selected_action = selected_action.detach().cpu().numpy()\n",
        "        \n",
        "        if not self.is_test:\n",
        "            self.transition = [state, selected_action]\n",
        "        \n",
        "        return selected_action\n",
        "\n",
        "    def step(self, action: np.ndarray) -> Tuple[np.ndarray, np.float64, bool]:\n",
        "        \"\"\"Take an action and return the response of the env.\"\"\"\n",
        "        next_state, reward, done, _ = self.env.step(action)\n",
        "\n",
        "        if not self.is_test:\n",
        "            self.transition += [reward, next_state, done]\n",
        "            self.memory.store(*self.transition)\n",
        "    \n",
        "        return next_state, reward, done\n",
        "\n",
        "    def update_model(self) -> torch.Tensor:\n",
        "        \"\"\"Update the model by gradient descent.\"\"\"\n",
        "        samples = self.memory.sample_batch()\n",
        "\n",
        "        loss = self._compute_dqn_loss(samples)\n",
        "\n",
        "        self.optimizer.zero_grad()\n",
        "        loss.backward()\n",
        "        self.optimizer.step()\n",
        "\n",
        "        return loss.item()\n",
        "        \n",
        "    def train(self, num_frames: int, plotting_interval: int = 200):\n",
        "        \"\"\"Train the agent.\"\"\"\n",
        "        self.is_test = False\n",
        "        \n",
        "        state = self.env.reset()\n",
        "        update_cnt = 0\n",
        "        epsilons = []\n",
        "        losses = []\n",
        "        scores = []\n",
        "        score = 0\n",
        "\n",
        "        for frame_idx in range(1, num_frames + 1):\n",
        "            action = self.select_action(state)\n",
        "            next_state, reward, done = self.step(action)\n",
        "\n",
        "            state = next_state\n",
        "            score += reward\n",
        "\n",
        "            # if episode ends\n",
        "            if done:\n",
        "                state = self.env.reset()\n",
        "                scores.append(score)\n",
        "                score = 0\n",
        "\n",
        "            # if training is ready\n",
        "            if len(self.memory) >= self.batch_size:\n",
        "                loss = self.update_model()\n",
        "                losses.append(loss)\n",
        "                update_cnt += 1\n",
        "                \n",
        "                # linearly decrease epsilon\n",
        "                self.epsilon = max(\n",
        "                    self.min_epsilon, self.epsilon - (\n",
        "                        self.max_epsilon - self.min_epsilon\n",
        "                    ) * self.epsilon_decay\n",
        "                )\n",
        "                epsilons.append(self.epsilon)\n",
        "                \n",
        "                # if hard update is needed\n",
        "                if update_cnt % self.target_update == 0:\n",
        "                    self._target_hard_update()\n",
        "\n",
        "            # plotting\n",
        "            if frame_idx % plotting_interval == 0:\n",
        "                self._plot(frame_idx, scores, losses, epsilons)\n",
        "                \n",
        "        self.env.close()\n",
        "                \n",
        "    def test(self, video_folder: str) -> None:\n",
        "        \"\"\"Test the agent.\"\"\"\n",
        "        self.is_test = True\n",
        "        \n",
        "        # for recording a video\n",
        "        naive_env = self.env\n",
        "        self.env = gym.wrappers.RecordVideo(self.env, video_folder=video_folder)\n",
        "        \n",
        "        state = self.env.reset()\n",
        "        done = False\n",
        "        score = 0\n",
        "        \n",
        "        while not done:\n",
        "            action = self.select_action(state)\n",
        "            next_state, reward, done = self.step(action)\n",
        "\n",
        "            state = next_state\n",
        "            score += reward\n",
        "        \n",
        "        print(\"score: \", score)\n",
        "        self.env.close()\n",
        "        \n",
        "        # reset\n",
        "        self.env = naive_env\n",
        "\n",
        "    def _compute_dqn_loss(self, samples: Dict[str, np.ndarray]) -> torch.Tensor:\n",
        "        \"\"\"Return dqn loss.\"\"\"\n",
        "        device = self.device  # for shortening the following lines\n",
        "        state = torch.FloatTensor(samples[\"obs\"]).to(device)\n",
        "        next_state = torch.FloatTensor(samples[\"next_obs\"]).to(device)\n",
        "        action = torch.LongTensor(samples[\"acts\"].reshape(-1, 1)).to(device)\n",
        "        reward = torch.FloatTensor(samples[\"rews\"].reshape(-1, 1)).to(device)\n",
        "        done = torch.FloatTensor(samples[\"done\"].reshape(-1, 1)).to(device)\n",
        "\n",
        "        # G_t   = r + gamma * v(s_{t+1})  if state != Terminal\n",
        "        #       = r                       otherwise\n",
        "        curr_q_value = self.dqn(state).gather(1, action)\n",
        "        next_q_value = self.dqn_target(\n",
        "            next_state\n",
        "        ).max(dim=1, keepdim=True)[0].detach()\n",
        "        mask = 1 - done\n",
        "        target = (reward + self.gamma * next_q_value * mask).to(self.device)\n",
        "\n",
        "        # calculate dqn loss\n",
        "        loss = F.smooth_l1_loss(curr_q_value, target)\n",
        "\n",
        "        return loss\n",
        "\n",
        "    def _target_hard_update(self):\n",
        "        \"\"\"Hard update: target <- local.\"\"\"\n",
        "        self.dqn_target.load_state_dict(self.dqn.state_dict())\n",
        "                \n",
        "    def _plot(\n",
        "        self, \n",
        "        frame_idx: int, \n",
        "        scores: List[float], \n",
        "        losses: List[float], \n",
        "        epsilons: List[float],\n",
        "    ):\n",
        "        \"\"\"Plot the training progresses.\"\"\"\n",
        "        clear_output(True)\n",
        "        plt.figure(figsize=(20, 5))\n",
        "        plt.subplot(131)\n",
        "        plt.title('frame %s. score: %s' % (frame_idx, np.mean(scores[-10:])))\n",
        "        plt.plot(scores)\n",
        "        plt.subplot(132)\n",
        "        plt.title('loss')\n",
        "        plt.plot(losses)\n",
        "        plt.subplot(133)\n",
        "        plt.title('epsilons')\n",
        "        plt.plot(epsilons)\n",
        "        plt.show()"
      ],
      "metadata": {
        "id": "YVbtpCYqZGv7"
      },
      "execution_count": 5,
      "outputs": []
    },
    {
      "cell_type": "code",
      "execution_count": 6,
      "metadata": {
        "id": "uFZuVbZz2uVq"
      },
      "outputs": [],
      "source": [
        "# environment\n",
        "env_id = \"CartPole-v0\"\n",
        "env = gym.make(env_id)"
      ]
    },
    {
      "cell_type": "code",
      "execution_count": 7,
      "metadata": {
        "id": "yianM-dx2uVn",
        "outputId": "13f1c918-b5b8-4a9e-b4fd-332f8fb0ff69",
        "colab": {
          "base_uri": "https://localhost:8080/"
        }
      },
      "outputs": [
        {
          "output_type": "stream",
          "name": "stdout",
          "text": [
            "cpu\n"
          ]
        }
      ],
      "source": [
        "# #Hyper Parameters\n",
        "\n",
        "# gamma=0.95\n",
        "\n",
        "# learningRate=0.01\n",
        "\n",
        "# batchSize=8\n",
        "\n",
        "# numHiddenNodes=1024\n",
        "\n",
        "# epsilonInit=0.8\n",
        "# epsilon_min=0.001\n",
        "# epsilon_decay=0.995\n",
        "# parameters\n",
        "num_frames = 10000\n",
        "memory_size = 1000\n",
        "batch_size = 32\n",
        "target_update = 100\n",
        "epsilon_decay = 1 / 2000\n",
        "\n",
        "agent = DQNAgent(env, memory_size, batch_size, target_update, epsilon_decay)"
      ]
    },
    {
      "cell_type": "markdown",
      "source": [
        "#Train"
      ],
      "metadata": {
        "id": "BPu85nk2ZfJa"
      }
    },
    {
      "cell_type": "code",
      "execution_count": 8,
      "metadata": {
        "id": "azVNSMYa2uVq",
        "outputId": "46ed66c6-8ab3-44d9-ed88-5a1d9d184167",
        "colab": {
          "base_uri": "https://localhost:8080/",
          "height": 278
        }
      },
      "outputs": [
        {
          "output_type": "display_data",
          "data": {
            "text/plain": [
              "<Figure size 1440x360 with 3 Axes>"
            ],
            "image/png": "[encoded data removed]"
          },
          "metadata": {
            "needs_background": "light"
          }
        }
      ],
      "source": [
        "agent.train(num_frames)"
      ]
    },
    {
      "cell_type": "markdown",
      "source": [
        "#Test"
      ],
      "metadata": {
        "id": "oUsgqvzyZh8q"
      }
    },
    {
      "cell_type": "code",
      "execution_count": 9,
      "metadata": {
        "id": "EomjmDOb2uVn",
        "outputId": "4f1e1889-6ad8-41f0-a2f2-ee6a0b100685",
        "colab": {
          "base_uri": "https://localhost:8080/"
        }
      },
      "outputs": [
        {
          "output_type": "stream",
          "name": "stderr",
          "text": [
            "/usr/local/lib/python3.7/dist-packages/gym/wrappers/record_video.py:42: UserWarning: \u001b[33mWARN: Overwriting existing videos at /content/videos folder (try specifying a different `video_folder` for the `RecordVideo` wrapper if this is not desired)\u001b[0m\n",
            "  f\"Overwriting existing videos at {self.video_folder} folder (try specifying a different `video_folder` for the `RecordVideo` wrapper if this is not desired)\"\n"
          ]
        },
        {
          "output_type": "stream",
          "name": "stdout",
          "text": [
            "score:  200.0\n"
          ]
        }
      ],
      "source": [
        "video_folder=\"videos\"\n",
        "agent.test(video_folder=video_folder)"
      ]
    },
    {
      "cell_type": "code",
      "source": [
        "import base64\n",
        "import glob\n",
        "import io\n",
        "import os\n",
        "\n",
        "from IPython.display import HTML, display\n",
        "\n",
        "\n",
        "def ipython_show_video(path: str) -> None:\n",
        "    \"\"\"Show a video at `path` within IPython Notebook.\"\"\"\n",
        "    if not os.path.isfile(path):\n",
        "        raise NameError(\"Cannot access: {}\".format(path))\n",
        "\n",
        "    video = io.open(path, \"r+b\").read()\n",
        "    encoded = base64.b64encode(video)\n",
        "\n",
        "    display(HTML(\n",
        "        data=\"\"\"\n",
        "        <video width=\"320\" height=\"240\" alt=\"test\" controls>\n",
        "        <source src=\"data:video/mp4;base64,{0}\" type=\"video/mp4\"/>\n",
        "        </video>\n",
        "        \"\"\".format(encoded.decode(\"ascii\"))\n",
        "    ))\n",
        "\n",
        "\n",
        "def show_latest_video(video_folder: str) -> str:\n",
        "    \"\"\"Show the most recently recorded video from video folder.\"\"\"\n",
        "    list_of_files = glob.glob(os.path.join(video_folder, \"*.mp4\"))\n",
        "    latest_file = max(list_of_files, key=os.path.getctime)\n",
        "    ipython_show_video(latest_file)\n",
        "    return latest_file\n",
        "\n",
        "\n",
        "latest_file = show_latest_video(video_folder=video_folder)\n",
        "print(\"Played:\", latest_file)"
      ],
      "metadata": {
        "id": "sTQ7xo9DZUKb",
        "outputId": "1d7a7800-33e6-4d21-b1e6-041f9b075493",
        "colab": {
          "base_uri": "https://localhost:8080/",
          "height": 280
        }
      },
      "execution_count": 10,
      "outputs": [
        {
          "output_type": "display_data",
          "data": {
            "text/plain": [
              "<IPython.core.display.HTML object>"
            ],
            "text/html": [
              "\n",
              "        <video width=\"320\" height=\"240\" alt=\"test\" controls>\n",
              "        <source src=\"data:video/mp4;base64,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\" type=\"video/mp4\"/>\n",
              "        </video>\n",
              "        "
            ]
          },
          "metadata": {}
        },
        {
          "output_type": "stream",
          "name": "stdout",
          "text": [
            "Played: videos/rl-video-episode-0.mp4\n"
          ]
        }
      ]
    },
    {
      "cell_type": "markdown",
      "metadata": {
        "collapsed": true,
        "id": "YNoagP352uVt"
      },
      "source": [
        "**Reference**  \n",
        "Mnih, V., Kavukcuoglu, K., Silver, D., Rusu, A. A., Veness, J., Bellemare, M. G., ... & Petersen, S. (2015). *Human-level control through deep reinforcement learning*. Nature, 518(7540), 529"
      ]
    }
  ],
  "metadata": {
    "kernelspec": {
      "display_name": "Python 3",
      "name": "python3"
    },
    "language_info": {
      "name": "python"
    },
    "colab": {
      "name": "lesson-04.ipynb",
      "provenance": [],
      "collapsed_sections": []
    },
    "gpuClass": "standard"
  },
  "nbformat": 4,
  "nbformat_minor": 0
}