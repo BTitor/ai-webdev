{
  "cells": [
    {
      "cell_type": "markdown",
      "source": [
        "<center><h1>AI in Web Development</h1></center>\n",
        "\n",
        "---\n",
        "\n",
        "<center><h2>Lesson 04</h2></center>\n",
        "\n",
        "\n",
        "[![Open In Colab](https://colab.research.google.com/assets/colab-badge.svg)](https://colab.research.google.com/github/BTitor/ai-webdev/blob/main/lessons/lesson-04/lesson-04.BTitor.ipynb)"
      ],
      "metadata": {
        "id": "IPgoWtoIJQOi"
      }
    },
    {
      "cell_type": "markdown",
      "source": [
        "This notebook is based on [this example](https://colab.research.google.com/github/Curt-Park/rainbow-is-all-you-need/blob/master/01.dqn.ipynb)\n",
        "and [this example](https://colab.research.google.com/github/ehennis/ReinforcementLearning/blob/master/05-DQN.ipynb#scrollTo=DPWjJiOZ2uVd)  \n"
      ],
      "metadata": {
        "id": "KPb9IjzQmKOU"
      }
    },
    {
      "cell_type": "markdown",
      "metadata": {
        "id": "Pf4_QpE72uVZ"
      },
      "source": [
        "<h1 align=\"center\">Reinforcement Learning (RL)</h1>"
      ]
    },
    {
      "cell_type": "markdown",
      "source": [
        "<center><img src=\"https://github.com/snsie/ai-webdev/blob/main/images/what-is-reinforcement-learning.png?raw=true\" width='320px'/></center>\n"
      ],
      "metadata": {
        "id": "VqGHxllEo3h7"
      }
    },
    {
      "cell_type": "markdown",
      "source": [
        "###Environment\n",
        "  * The stage that contains the simulation\n",
        "\n",
        "<br/>\n",
        "\n",
        "###Agent\n",
        "  * The entity making decisions\n",
        "  * Can be represented as a neural network\n",
        "\n",
        "<br/>\n",
        "\n",
        "###States\n",
        "* Set of observations that agents that can be performed by the agent\n",
        "* example: agent's position\n",
        "\n",
        "<br/>\n",
        "\n",
        "###Actions\n",
        "* Set of activities that can be performed by the agent\n",
        "* example: move right, move left\n",
        "\n",
        "<br/>\n",
        "\n",
        "###Rewards\n",
        "* Provides agents feedback about their performance\n"
      ],
      "metadata": {
        "id": "sdedL4816Qp5"
      }
    },
    {
      "cell_type": "markdown",
      "source": [
        "<center><h1>Cart Pole Example</h1></center>\n",
        "\n",
        "---\n",
        "\n",
        "<center><h4>the cart's goal: balance the pole</h4></center>\n",
        "\n",
        "\n",
        "[Gym Docs](https://www.gymlibrary.ml/environments/classic_control/cart_pole/)"
      ],
      "metadata": {
        "id": "P12W_YPa09UE"
      }
    },
    {
      "cell_type": "markdown",
      "source": [
        "|Bad Cart          |  Good Cart  |\n",
        "|:-------------------------:|:-------------------------:|\n",
        "| <img src='https://github.com/snsie/ai-webdev/blob/main/images/cartpole-initial.gif?raw=true' width=\"300\"/>  | <img src='https://github.com/snsie/ai-webdev/blob/main/images/cartpole-trained.gif?raw=true' width=\"300\"/> |"
      ],
      "metadata": {
        "id": "A-YYa0w41cqt"
      }
    },
    {
      "cell_type": "markdown",
      "metadata": {
        "id": "Z2Fqe9TO2uVd"
      },
      "source": [
        "<center><h3><u>Actions</u></h3></center>\n",
        "\n",
        "| Num | Action                 |\n",
        "|-----|------------------------|\n",
        "| 0   | Push cart to the left  |\n",
        "| 1   | Push cart to the right |\n",
        "\n",
        "<br/>\n",
        "<br/>\n",
        "\n",
        "<center><h3><u>States</u></h3></center>\n",
        "\n",
        "| Num | Observation           | Min                 | Max               |\n",
        "|-----|-----------------------|:-------------------|:-----------------|\n",
        "| 0   | Cart Position         | -4.8                | 4.8               |\n",
        "| 1   | Cart Velocity         | -Inf                | Inf               |\n",
        "| 2   | Pole Angle            | ~ -0.418 rad (-24°) | ~ 0.418 rad (24°) |\n",
        "| 3   | Pole Angular Velocity | -Inf                | Inf               |\n",
        "\n",
        "<br/>\n",
        "\n",
        "[Cart Pole Python File](https://github.com/openai/gym/blob/master/gym/envs/classic_control/cartpole.py)"
      ]
    },
    {
      "cell_type": "markdown",
      "source": [
        "RL Algorithm to be used in this example:\n",
        "\n",
        "<center><h1>Q-learning</h1></center>\n",
        "\n",
        "<br/>\n",
        "\n",
        "<h4>\n",
        "\\begin{align}\n",
        "Q(s,a) = r(s,a) + \\gamma \\cdot \\max_{a} Q(s',a')\n",
        "\\end{align}\n",
        "</h4>\n",
        "\n",
        "<br/>\n",
        "\n",
        "###$Q(s,a)$ = Q-value\n",
        "\n",
        "###$r(s,a)$ = reward for current action\n",
        "\n",
        "###$\\gamma$ = parameter that scales: $\\max_{a}Q(s',a')$\n",
        "\n",
        "###$\\max_{a}Q(s',a')$ = Maximum Q-value predicted in the next state \n",
        "\n",
        "<br/>\n",
        "\n",
        "---"
      ],
      "metadata": {
        "id": "u1IqACZf-7yG"
      }
    },
    {
      "cell_type": "markdown",
      "source": [
        "<h3>Long term interpretation of Q:</h3>\n",
        "<h3>\n",
        "$$\n",
        "Q(s_t,a_t) = r(t) + \\gamma \\cdot r(t+1) + \\gamma^2 \\cdot r(t+2) +  \\gamma^3 \\cdot r(t+3) \\ ...\n",
        "$$\n",
        "</h3>"
      ],
      "metadata": {
        "id": "EtMh6rUaKpep"
      }
    },
    {
      "cell_type": "markdown",
      "source": [
        "**Reference**  \n",
        "Mnih, V., Kavukcuoglu, K., Silver, D., Rusu, A. A., Veness, J., Bellemare, M. G., ... & Petersen, S. (2015). *Human-level control through deep reinforcement learning*. Nature, 518(7540), 529"
      ],
      "metadata": {
        "id": "vJM_vfH8gSf9"
      }
    },
    {
      "cell_type": "code",
      "source": [
        "import sys\n",
        "IN_COLAB = \"google.colab\" in sys.modules\n",
        "\n",
        "if IN_COLAB:\n",
        "    !apt install python-opengl\n",
        "    !apt install ffmpeg\n",
        "    !apt install xvfb\n",
        "    !pip install PyVirtualDisplay==3.0\n",
        "    !pip install gym==0.21.0\n",
        "    from pyvirtualdisplay import Display\n",
        "    \n",
        "    # Start virtual display\n",
        "    dis = Display(visible=0, size=(400, 400))\n",
        "    dis.start()"
      ],
      "metadata": {
        "id": "KtRw868MHSEj",
        "outputId": "4bc3bdb1-0b9a-4aa7-c027-50d0dec408cd",
        "colab": {
          "base_uri": "https://localhost:8080/"
        }
      },
      "execution_count": 16,
      "outputs": [
        {
          "output_type": "stream",
          "name": "stdout",
          "text": [
            "Reading package lists... Done\n",
            "Building dependency tree       \n",
            "Reading state information... Done\n",
            "python-opengl is already the newest version (3.1.0+dfsg-1).\n",
            "The following package was automatically installed and is no longer required:\n",
            "  libnvidia-common-460\n",
            "Use 'apt autoremove' to remove it.\n",
            "0 upgraded, 0 newly installed, 0 to remove and 49 not upgraded.\n",
            "Reading package lists... Done\n",
            "Building dependency tree       \n",
            "Reading state information... Done\n",
            "ffmpeg is already the newest version (7:3.4.11-0ubuntu0.1).\n",
            "The following package was automatically installed and is no longer required:\n",
            "  libnvidia-common-460\n",
            "Use 'apt autoremove' to remove it.\n",
            "0 upgraded, 0 newly installed, 0 to remove and 49 not upgraded.\n",
            "Reading package lists... Done\n",
            "Building dependency tree       \n",
            "Reading state information... Done\n",
            "xvfb is already the newest version (2:1.19.6-1ubuntu4.11).\n",
            "The following package was automatically installed and is no longer required:\n",
            "  libnvidia-common-460\n",
            "Use 'apt autoremove' to remove it.\n",
            "0 upgraded, 0 newly installed, 0 to remove and 49 not upgraded.\n",
            "Looking in indexes: https://pypi.org/simple, https://us-python.pkg.dev/colab-wheels/public/simple/\n",
            "Requirement already satisfied: PyVirtualDisplay==3.0 in /usr/local/lib/python3.7/dist-packages (3.0)\n",
            "Looking in indexes: https://pypi.org/simple, https://us-python.pkg.dev/colab-wheels/public/simple/\n",
            "Requirement already satisfied: gym==0.21.0 in /usr/local/lib/python3.7/dist-packages (0.21.0)\n",
            "Requirement already satisfied: cloudpickle>=1.2.0 in /usr/local/lib/python3.7/dist-packages (from gym==0.21.0) (1.3.0)\n",
            "Requirement already satisfied: numpy>=1.18.0 in /usr/local/lib/python3.7/dist-packages (from gym==0.21.0) (1.21.6)\n",
            "Requirement already satisfied: importlib-metadata>=4.8.1 in /usr/local/lib/python3.7/dist-packages (from gym==0.21.0) (4.12.0)\n",
            "Requirement already satisfied: zipp>=0.5 in /usr/local/lib/python3.7/dist-packages (from importlib-metadata>=4.8.1->gym==0.21.0) (3.8.1)\n",
            "Requirement already satisfied: typing-extensions>=3.6.4 in /usr/local/lib/python3.7/dist-packages (from importlib-metadata>=4.8.1->gym==0.21.0) (4.1.1)\n"
          ]
        }
      ]
    },
    {
      "cell_type": "code",
      "execution_count": 17,
      "metadata": {
        "id": "DPWjJiOZ2uVd"
      },
      "outputs": [],
      "source": [
        "import os\n",
        "from typing import Dict, List, Tuple\n",
        "\n",
        "import gym\n",
        "import matplotlib.pyplot as plt\n",
        "import numpy as np\n",
        "import torch\n",
        "import torch.nn as nn\n",
        "import torch.nn.functional as F\n",
        "import torch.optim as optim\n",
        "from IPython.display import clear_output,HTML, display\n",
        "import base64\n",
        "import glob\n",
        "import io"
      ]
    },
    {
      "cell_type": "markdown",
      "source": [
        "## Network\n",
        "\n",
        "We are going to use a simple network architecture with three fully connected layers and two non-linearity functions (ReLU)."
      ],
      "metadata": {
        "id": "hyKWUadCZASY"
      }
    },
    {
      "cell_type": "code",
      "source": [
        "### Create a neural network class \n",
        "class Network(nn.Module):\n",
        "  def __init__(self,in_dim:int, out_dim:int,num_hn:int):\n",
        "    super(Network, self).__init__()\n",
        "\n",
        "    self.layers=nn.Sequential(\n",
        "        nn.Linear(in_dim,num_hn),\n",
        "        nn.ReLU(),\n",
        "        nn.Linear(num_hn,num_hn),\n",
        "        nn.ReLU(),\n",
        "        nn.Linear(num_hn,out_dim)\n",
        "    )\n",
        "\n",
        "  def forward(self,x:torch.Tensor):\n",
        "    return self.layers(x)  "
      ],
      "metadata": {
        "id": "KVleneWxZqGq"
      },
      "execution_count": 18,
      "outputs": []
    },
    {
      "cell_type": "markdown",
      "source": [
        "## Replay buffer\n",
        "\n",
        "Typically, people implement replay buffers with one of the following three data structures:\n",
        "\n",
        "  - collections.deque\n",
        "  - list\n",
        "  - numpy.ndarray\n",
        "  \n",
        "**deque** is very easy to handle once you initialize its maximum length (e.g. deque(maxlen=buffer_size)). However, the indexing operation of deque gets terribly slow as it grows up because it is [internally doubly linked list](https://wiki.python.org/moin/TimeComplexity#collections.deque). On the other hands, **list** is an array, so it is relatively faster than deque when you sample batches at every step. Its amortized cost of  *Get item* is [O(1)](https://wiki.python.org/moin/TimeComplexity#list).\n",
        "\n",
        "Last but not least, let's see **numpy.ndarray**. numpy.ndarray is even faster than list due to the fact that it is [a homogeneous array of fixed-size items](https://docs.scipy.org/doc/numpy/reference/generated/numpy.ndarray.html#numpy.ndarray), so you can get the benefits of [locality of reference](https://en.wikipedia.org/wiki/Locality_of_reference). Whereas list is an array of pointers to objects, even when all of them are of the same type.\n",
        "\n",
        "Here, we are going to implement a replay buffer using numpy.ndarray.\n",
        "\n",
        "\n",
        "Reference: [OpenAI spinning-up](https://github.com/openai/spinningup/blob/master/spinup/algos/sac/sac.py#L10)"
      ],
      "metadata": {
        "id": "rj0SrJzkY5xY"
      }
    },
    {
      "cell_type": "code",
      "execution_count": 19,
      "metadata": {
        "id": "7CsaVrbA2uVp"
      },
      "outputs": [],
      "source": [
        "#Create ReplayBuffer Class\n",
        "class ReplayBuffer:\n",
        "    \"\"\"A simple numpy replay buffer.\"\"\"\n",
        "\n",
        "    def __init__(self, obs_dim: int, size: int, batch_size: int = 32):\n",
        "        self.obs_buf = np.zeros([size, obs_dim], dtype=np.float32)\n",
        "        self.next_obs_buf = np.zeros([size, obs_dim], dtype=np.float32)\n",
        "        self.acts_buf = np.zeros([size], dtype=np.float32)\n",
        "        self.rews_buf = np.zeros([size], dtype=np.float32)\n",
        "        self.done_buf = np.zeros(size, dtype=np.float32)\n",
        "        self.max_size, self.batch_size = size, batch_size\n",
        "        self.ptr, self.size, = 0, 0\n",
        "\n",
        "    def store(\n",
        "        self,\n",
        "        obs: np.ndarray,\n",
        "        act: np.ndarray, \n",
        "        rew: float, \n",
        "        next_obs: np.ndarray, \n",
        "        done: bool,\n",
        "    ):\n",
        "        self.obs_buf[self.ptr] = obs\n",
        "        self.next_obs_buf[self.ptr] = next_obs\n",
        "        self.acts_buf[self.ptr] = act\n",
        "        self.rews_buf[self.ptr] = rew\n",
        "        self.done_buf[self.ptr] = done\n",
        "        self.ptr = (self.ptr + 1) % self.max_size\n",
        "        self.size = min(self.size + 1, self.max_size)\n",
        "\n",
        "    def sample_batch(self) -> Dict[str, np.ndarray]:\n",
        "        idxs = np.random.choice(self.size, size=self.batch_size, replace=False)\n",
        "        return dict(obs=self.obs_buf[idxs],\n",
        "                    next_obs=self.next_obs_buf[idxs],\n",
        "                    acts=self.acts_buf[idxs],\n",
        "                    rews=self.rews_buf[idxs],\n",
        "                    done=self.done_buf[idxs])\n",
        "\n",
        "    def __len__(self) -> int:\n",
        "        return self.size"
      ]
    },
    {
      "cell_type": "markdown",
      "source": [
        "## DQN Agent\n",
        "\n",
        "Here is a summary of DQNAgent class.\n",
        "\n",
        "| Method           | Note                                                 |\n",
        "| ---              | ---                                                  |\n",
        "|select_action     | select an action from the input state.               |\n",
        "|step              | take an action and return the response of the env.   |\n",
        "|compute_dqn_loss  | return dqn loss.                                     |\n",
        "|update_model      | update the model by gradient descent.                |\n",
        "|target_hard_update| hard update from the local model to the target model.|\n",
        "|train             | train the agent during num_frames.                   |\n",
        "|test              | test the agent (1 episode).                          |\n",
        "|plot              | plot the training progresses.                        |\n"
      ],
      "metadata": {
        "id": "dx9OyOhCZKL4"
      }
    },
    {
      "cell_type": "code",
      "source": [
        "# Create DQNAgent class \n",
        "# Create DQNAgent class \n",
        "class DQNAgent:\n",
        "    \"\"\"DQN Agent interacting with environment.\n",
        "    \n",
        "    Attribute:\n",
        "        env (gym.Env): openAI Gym environment\n",
        "        memory (ReplayBuffer): replay memory to store transitions\n",
        "        batch_size (int): batch size for sampling\n",
        "        epsilon (float): parameter for epsilon greedy policy\n",
        "        epsilon_decay (float): step size to decrease epsilon\n",
        "        max_epsilon (float): max value of epsilon\n",
        "        min_epsilon (float): min value of epsilon\n",
        "        target_update (int): period for target model's hard update\n",
        "        gamma (float): discount factor\n",
        "        dqn (Network): model to train and select actions\n",
        "        dqn_target (Network): target model to update\n",
        "        optimizer (torch.optim): optimizer for training dqn\n",
        "        transition (list): transition information including \n",
        "                           state, action, reward, next_state, done\n",
        "    \"\"\"\n",
        "\n",
        "    def __init__(\n",
        "        self, \n",
        "        env: gym.Env,\n",
        "        num_hidden_nodes:int,\n",
        "        memory_size: int,\n",
        "        batch_size: int,\n",
        "        target_update: int,\n",
        "        epsilon_decay: float,\n",
        "        max_epsilon: float = 1.0,\n",
        "        min_epsilon: float = 0.1,\n",
        "        gamma: float = 0.99,\n",
        "    ):\n",
        "        \"\"\"Initialization.\n",
        "        \n",
        "        Args:\n",
        "            env (gym.Env): openAI Gym environment\n",
        "            memory_size (int): length of memory\n",
        "            batch_size (int): batch size for sampling\n",
        "            target_update (int): period for target model's hard update\n",
        "            epsilon_decay (float): step size to decrease epsilon\n",
        "            lr (float): learning rate\n",
        "            max_epsilon (float): max value of epsilon\n",
        "            min_epsilon (float): min value of epsilon\n",
        "            gamma (float): discount factor\n",
        "        \"\"\"\n",
        "        obs_dim = env.observation_space.shape[0]\n",
        "        action_dim = env.action_space.n\n",
        "        \n",
        "        self.env = env\n",
        "        self.memory = ReplayBuffer(obs_dim, memory_size, batch_size)\n",
        "        self.batch_size = batch_size\n",
        "        self.epsilon = max_epsilon\n",
        "        self.epsilon_decay = epsilon_decay\n",
        "        self.max_epsilon = max_epsilon\n",
        "        self.min_epsilon = min_epsilon\n",
        "        self.target_update = target_update\n",
        "        self.gamma = gamma\n",
        "        \n",
        "        # device: cpu / gpu\n",
        "        self.device = torch.device(\n",
        "            \"cuda\" if torch.cuda.is_available() else \"cpu\"\n",
        "        )\n",
        "        print(self.device)\n",
        "\n",
        "        # networks: dqn, dqn_target\n",
        "        self.dqn = Network(obs_dim, action_dim,num_hidden_nodes).to(self.device)\n",
        "        self.dqn_target = Network(obs_dim, action_dim,num_hidden_nodes).to(self.device)\n",
        "        self.dqn_target.load_state_dict(self.dqn.state_dict())\n",
        "        self.dqn_target.eval()\n",
        "        print('params',self.dqn.parameters())\n",
        "        # optimizer\n",
        "        self.optimizer = optim.Adam(self.dqn.parameters(),lr=0.001)\n",
        "\n",
        "        # transition to store in memory\n",
        "        self.transition = list()\n",
        "        \n",
        "        # mode: train / test\n",
        "        self.is_test = False\n",
        "\n",
        "    def select_action(self, state: np.ndarray) -> np.ndarray:\n",
        "        \"\"\"Select an action from the input state.\"\"\"\n",
        "        # epsilon greedy policy\n",
        "        if self.epsilon > np.random.random():\n",
        "            selected_action = self.env.action_space.sample()\n",
        "        else:\n",
        "            selected_action = self.dqn(\n",
        "                torch.FloatTensor(state).to(self.device)\n",
        "            ).argmax()\n",
        "            selected_action = selected_action.detach().cpu().numpy()\n",
        "        \n",
        "        if not self.is_test:\n",
        "            self.transition = [state, selected_action]\n",
        "        \n",
        "        return selected_action\n",
        "\n",
        "    def step(self, action: np.ndarray) -> Tuple[np.ndarray, np.float64, bool]:\n",
        "        \"\"\"Take an action and return the response of the env.\"\"\"\n",
        "        next_state, reward, done, _ = self.env.step(action)\n",
        "\n",
        "        if not self.is_test:\n",
        "            self.transition += [reward, next_state, done]\n",
        "            self.memory.store(*self.transition)\n",
        "    \n",
        "        return next_state, reward, done\n",
        "\n",
        "    def update_model(self) -> torch.Tensor:\n",
        "        \"\"\"Update the model by gradient descent.\"\"\"\n",
        "        samples = self.memory.sample_batch()\n",
        "\n",
        "        loss = self._compute_dqn_loss(samples)\n",
        "\n",
        "        self.optimizer.zero_grad()\n",
        "        loss.backward()\n",
        "        self.optimizer.step()\n",
        "\n",
        "        return loss.item()\n",
        "        \n",
        "    def train(self, num_frames: int, plotting_interval: int = 200):\n",
        "        \"\"\"Train the agent.\"\"\"\n",
        "        self.is_test = False\n",
        "        \n",
        "        state = self.env.reset()\n",
        "        update_cnt = 0\n",
        "        epsilons = []\n",
        "        losses = []\n",
        "        scores = []\n",
        "        score = 0\n",
        "\n",
        "        for frame_idx in range(1, num_frames + 1):\n",
        "            action = self.select_action(state)\n",
        "            next_state, reward, done = self.step(action)\n",
        "\n",
        "            state = next_state\n",
        "            score += reward\n",
        "\n",
        "            # if episode ends\n",
        "            if done:\n",
        "                state = self.env.reset()\n",
        "                scores.append(score)\n",
        "                score = 0\n",
        "\n",
        "            # if training is ready\n",
        "            if len(self.memory) >= self.batch_size:\n",
        "                loss = self.update_model()\n",
        "                losses.append(loss)\n",
        "                update_cnt += 1\n",
        "                \n",
        "                # linearly decrease epsilon\n",
        "                self.epsilon = max(\n",
        "                    self.min_epsilon, self.epsilon - (\n",
        "                        self.max_epsilon - self.min_epsilon\n",
        "                    ) * self.epsilon_decay\n",
        "                )\n",
        "                epsilons.append(self.epsilon)\n",
        "                \n",
        "                # if hard update is needed\n",
        "                if update_cnt % self.target_update == 0:\n",
        "                    self._target_hard_update()\n",
        "\n",
        "            # plotting\n",
        "            if frame_idx % plotting_interval == 0:\n",
        "                self._plot(frame_idx, scores, losses, epsilons)\n",
        "                \n",
        "        self.env.close()\n",
        "                \n",
        "    def test(self, video_folder: str) -> None:\n",
        "        \"\"\"Test the agent.\"\"\"\n",
        "        self.is_test = True\n",
        "        \n",
        "        # for recording a video\n",
        "        naive_env = self.env\n",
        "        self.env = gym.wrappers.RecordVideo(self.env, video_folder=video_folder)\n",
        "        \n",
        "        state = self.env.reset()\n",
        "        done = False\n",
        "        score = 0\n",
        "        \n",
        "        while not done:\n",
        "            action = self.select_action(state)\n",
        "            next_state, reward, done = self.step(action)\n",
        "\n",
        "            state = next_state\n",
        "            score += reward\n",
        "        \n",
        "        print(\"score: \", score)\n",
        "        self.env.close()\n",
        "        \n",
        "        # reset\n",
        "        self.env = naive_env\n",
        "\n",
        "    def _compute_dqn_loss(self, samples: Dict[str, np.ndarray]) -> torch.Tensor:\n",
        "        \"\"\"Return dqn loss.\"\"\"\n",
        "        device = self.device  # for shortening the following lines\n",
        "        state = torch.FloatTensor(samples[\"obs\"]).to(device)\n",
        "        next_state = torch.FloatTensor(samples[\"next_obs\"]).to(device)\n",
        "        action = torch.LongTensor(samples[\"acts\"].reshape(-1, 1)).to(device)\n",
        "        reward = torch.FloatTensor(samples[\"rews\"].reshape(-1, 1)).to(device)\n",
        "        done = torch.FloatTensor(samples[\"done\"].reshape(-1, 1)).to(device)\n",
        "\n",
        "        # G_t   = r + gamma * v(s_{t+1})  if state != Terminal\n",
        "        #       = r                       otherwise\n",
        "        curr_q_value = self.dqn(state).gather(1, action)\n",
        "        next_q_value = self.dqn_target(\n",
        "            next_state\n",
        "        ).max(dim=1, keepdim=True)[0].detach()\n",
        "        mask = 1 - done\n",
        "        target = (reward + self.gamma * next_q_value * mask).to(self.device)\n",
        "        # print(target)\n",
        "        # calculate dqn loss\n",
        "        loss = F.smooth_l1_loss(curr_q_value, target)\n",
        "\n",
        "        return loss\n",
        "\n",
        "    def _target_hard_update(self):\n",
        "        \"\"\"Hard update: target <- local.\"\"\"\n",
        "        self.dqn_target.load_state_dict(self.dqn.state_dict())\n",
        "                \n",
        "    def _plot(\n",
        "        self, \n",
        "        frame_idx: int, \n",
        "        scores: List[float], \n",
        "        losses: List[float], \n",
        "        epsilons: List[float],\n",
        "    ):\n",
        "        \"\"\"Plot the training progresses.\"\"\"\n",
        "        clear_output(True)\n",
        "        plt.figure(figsize=(20, 5))\n",
        "        plt.subplot(131)\n",
        "        plt.title('frame %s. score: %s' % (frame_idx, np.mean(scores[-10:])))\n",
        "        plt.plot(scores)\n",
        "        plt.subplot(132)\n",
        "        plt.title('loss')\n",
        "        plt.plot(losses)\n",
        "        plt.subplot(133)\n",
        "        plt.title('epsilons')\n",
        "        plt.plot(epsilons)\n",
        "        plt.show()"
      ],
      "metadata": {
        "id": "YVbtpCYqZGv7"
      },
      "execution_count": 20,
      "outputs": []
    },
    {
      "cell_type": "markdown",
      "source": [
        "#Create the environment"
      ],
      "metadata": {
        "id": "if11YIXAf_dG"
      }
    },
    {
      "cell_type": "code",
      "execution_count": 21,
      "metadata": {
        "id": "uFZuVbZz2uVq"
      },
      "outputs": [],
      "source": [
        "# set the environment\n",
        "env_id = \"CartPole-v0\"\n",
        "env = gym.make(env_id)"
      ]
    },
    {
      "cell_type": "markdown",
      "source": [
        "#Set parameters for experiment"
      ],
      "metadata": {
        "id": "8yoJpvcXgCEL"
      }
    },
    {
      "cell_type": "code",
      "execution_count": 22,
      "metadata": {
        "id": "yianM-dx2uVn"
      },
      "outputs": [],
      "source": [
        "# create params\n",
        "num_frames = 10000\n",
        "memory_size = 1000\n",
        "batch_size = 32\n",
        "target_update = 100\n",
        "epsilon_decay = 1 / 2000\n",
        "num_hidden_nodes=128\n",
        "video_folder=\"videos\"\n"
      ]
    },
    {
      "cell_type": "code",
      "source": [
        "#Initialize the agent using the DQN class\n",
        "agent = DQNAgent(env,num_hidden_nodes, memory_size, batch_size, target_update, epsilon_decay)"
      ],
      "metadata": {
        "id": "VUt0odA2kuSl",
        "colab": {
          "base_uri": "https://localhost:8080/"
        },
        "outputId": "bccbdf47-2b26-46c5-f3c9-dd7ccf7fea7f"
      },
      "execution_count": 23,
      "outputs": [
        {
          "output_type": "stream",
          "name": "stdout",
          "text": [
            "cpu\n",
            "params <generator object Module.parameters at 0x7f86fc2f58d0>\n"
          ]
        }
      ]
    },
    {
      "cell_type": "markdown",
      "source": [
        "#Train"
      ],
      "metadata": {
        "id": "BPu85nk2ZfJa"
      }
    },
    {
      "cell_type": "code",
      "execution_count": 24,
      "metadata": {
        "id": "azVNSMYa2uVq",
        "colab": {
          "base_uri": "https://localhost:8080/",
          "height": 282
        },
        "outputId": "925db82b-f2bc-4fde-db34-d856d4f8f141"
      },
      "outputs": [
        {
          "output_type": "display_data",
          "data": {
            "text/plain": [
              "<Figure size 1440x360 with 3 Axes>"
            ],
            "image/png": "[encoded data removed]"
          },
          "metadata": {
            "needs_background": "light"
          }
        }
      ],
      "source": [
        "# train the agent\n",
        "agent.train(num_frames)"
      ]
    },
    {
      "cell_type": "markdown",
      "source": [
        "#Test the network and export video of agent's actions"
      ],
      "metadata": {
        "id": "oUsgqvzyZh8q"
      }
    },
    {
      "cell_type": "code",
      "execution_count": 25,
      "metadata": {
        "id": "EomjmDOb2uVn",
        "colab": {
          "base_uri": "https://localhost:8080/"
        },
        "outputId": "7369f239-60d2-46b7-e8b8-0477a10fecd2"
      },
      "outputs": [
        {
          "output_type": "stream",
          "name": "stdout",
          "text": [
            "score:  132.0\n"
          ]
        }
      ],
      "source": [
        "# create the video_folder var\n",
        "agent.test(video_folder=video_folder)"
      ]
    },
    {
      "cell_type": "code",
      "source": [
        "## create the functions to display the test video in colab\n",
        "def ipython_show_video(path: str) -> None:\n",
        "    \"\"\"Show a video at `path` within IPython Notebook.\"\"\"\n",
        "    if not os.path.isfile(path):\n",
        "        raise NameError(\"Cannot access: {}\".format(path))\n",
        "\n",
        "    video = io.open(path, \"r+b\").read()\n",
        "    encoded = base64.b64encode(video)\n",
        "\n",
        "    display(HTML(\n",
        "        data=\"\"\"\n",
        "        <video width=\"320\" height=\"240\" alt=\"test\" controls>\n",
        "        <source src=\"data:video/mp4;base64,{0}\" type=\"video/mp4\"/>\n",
        "        </video>\n",
        "        \"\"\".format(encoded.decode(\"ascii\"))\n",
        "    ))\n",
        "\n",
        "\n",
        "def show_latest_video(video_folder: str) -> str:\n",
        "    \"\"\"Show the most recently recorded video from video folder.\"\"\"\n",
        "    list_of_files = glob.glob(os.path.join(video_folder, \"*.mp4\"))\n",
        "    latest_file = max(list_of_files, key=os.path.getctime)\n",
        "    ipython_show_video(latest_file)\n",
        "    return latest_file\n",
        "\n",
        "\n",
        "latest_file = show_latest_video(video_folder=video_folder)\n",
        "print(\"Played:\", latest_file)"
      ],
      "metadata": {
        "id": "sTQ7xo9DZUKb",
        "colab": {
          "base_uri": "https://localhost:8080/",
          "height": 279
        },
        "outputId": "5a6eb0d7-9b84-41cd-b4e4-a3a53c19627d"
      },
      "execution_count": 26,
      "outputs": [
        {
          "output_type": "display_data",
          "data": {
            "text/plain": [
              "<IPython.core.display.HTML object>"
            ],
            "text/html": [
              "\n",
              "        <video width=\"320\" height=\"240\" alt=\"test\" controls>\n",
              "        <source src=\"data:video/mp4;base64,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\" type=\"video/mp4\"/>\n",
              "        </video>\n",
              "        "
            ]
          },
          "metadata": {}
        },
        {
          "output_type": "stream",
          "name": "stdout",
          "text": [
            "Played: videos/rl-video-episode-0.mp4\n"
          ]
        }
      ]
    },
    {
      "cell_type": "code",
      "source": [
        ""
      ],
      "metadata": {
        "id": "zJM-hU0bjg3Z"
      },
      "execution_count": 26,
      "outputs": []
    }
  ],
  "metadata": {
    "kernelspec": {
      "display_name": "Python 3",
      "name": "python3"
    },
    "language_info": {
      "name": "python"
    },
    "colab": {
      "name": "lesson-04.BTitor.ipynb",
      "provenance": [],
      "collapsed_sections": []
    },
    "gpuClass": "standard"
  },
  "nbformat": 4,
  "nbformat_minor": 0
}