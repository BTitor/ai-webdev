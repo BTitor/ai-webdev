{
  "cells": [
    {
      "cell_type": "markdown",
      "source": [
        "<center><h1>AI in Web Development</h1></center>\n",
        "\n",
        "---\n",
        "\n",
        "<center><h2>Lesson 04</h2></center>\n",
        "\n",
        "\n",
        "[![Open In Colab](https://colab.research.google.com/assets/colab-badge.svg)](https://colab.research.google.com/github/BTitor/ai-webdev/blob/main/lessons/lesson-04/lesson-04.BTitor.ipynb)"
      ],
      "metadata": {
        "id": "IPgoWtoIJQOi"
      }
    },
    {
      "cell_type": "markdown",
      "source": [
        "This notebook is based on [this example](https://colab.research.google.com/github/Curt-Park/rainbow-is-all-you-need/blob/master/01.dqn.ipynb)\n",
        "and [this example](https://colab.research.google.com/github/ehennis/ReinforcementLearning/blob/master/05-DQN.ipynb#scrollTo=DPWjJiOZ2uVd)  \n"
      ],
      "metadata": {
        "id": "KPb9IjzQmKOU"
      }
    },
    {
      "cell_type": "markdown",
      "metadata": {
        "id": "Pf4_QpE72uVZ"
      },
      "source": [
        "<h1 align=\"center\">Reinforcement Learning (RL)</h1>"
      ]
    },
    {
      "cell_type": "markdown",
      "source": [
        "<center><img src=\"https://github.com/snsie/ai-webdev/blob/main/images/what-is-reinforcement-learning.png?raw=true\" width='320px'/></center>\n"
      ],
      "metadata": {
        "id": "VqGHxllEo3h7"
      }
    },
    {
      "cell_type": "markdown",
      "source": [
        "###Environment\n",
        "  * The stage that contains the simulation\n",
        "\n",
        "<br/>\n",
        "\n",
        "###Agent\n",
        "  * The entity making decisions\n",
        "  * Can be represented as a neural network\n",
        "\n",
        "<br/>\n",
        "\n",
        "###States\n",
        "* Set of observations that agents that can be performed by the agent\n",
        "* example: agent's position\n",
        "\n",
        "<br/>\n",
        "\n",
        "###Actions\n",
        "* Set of activities that can be performed by the agent\n",
        "* example: move right, move left\n",
        "\n",
        "<br/>\n",
        "\n",
        "###Rewards\n",
        "* Provides agents feedback about their performance\n"
      ],
      "metadata": {
        "id": "sdedL4816Qp5"
      }
    },
    {
      "cell_type": "markdown",
      "source": [
        "<center><h1>Cart Pole Example</h1></center>\n",
        "\n",
        "---\n",
        "\n",
        "<center><h4>the cart's goal: balance the pole</h4></center>\n",
        "\n",
        "\n",
        "[Gym Docs](https://www.gymlibrary.ml/environments/classic_control/cart_pole/)"
      ],
      "metadata": {
        "id": "P12W_YPa09UE"
      }
    },
    {
      "cell_type": "markdown",
      "source": [
        "|Bad Cart          |  Good Cart  |\n",
        "|:-------------------------:|:-------------------------:|\n",
        "| <img src='https://github.com/snsie/ai-webdev/blob/main/images/cartpole-initial.gif?raw=true' width=\"300\"/>  | <img src='https://github.com/snsie/ai-webdev/blob/main/images/cartpole-trained.gif?raw=true' width=\"300\"/> |"
      ],
      "metadata": {
        "id": "A-YYa0w41cqt"
      }
    },
    {
      "cell_type": "markdown",
      "metadata": {
        "id": "Z2Fqe9TO2uVd"
      },
      "source": [
        "<center><h3><u>Actions</u></h3></center>\n",
        "\n",
        "| Num | Action                 |\n",
        "|-----|------------------------|\n",
        "| 0   | Push cart to the left  |\n",
        "| 1   | Push cart to the right |\n",
        "\n",
        "<br/>\n",
        "<br/>\n",
        "\n",
        "<center><h3><u>States</u></h3></center>\n",
        "\n",
        "| Num | Observation           | Min                 | Max               |\n",
        "|-----|-----------------------|:-------------------|:-----------------|\n",
        "| 0   | Cart Position         | -4.8                | 4.8               |\n",
        "| 1   | Cart Velocity         | -Inf                | Inf               |\n",
        "| 2   | Pole Angle            | ~ -0.418 rad (-24°) | ~ 0.418 rad (24°) |\n",
        "| 3   | Pole Angular Velocity | -Inf                | Inf               |\n",
        "\n",
        "<br/>\n",
        "\n",
        "[Cart Pole Python File](https://github.com/openai/gym/blob/master/gym/envs/classic_control/cartpole.py)"
      ]
    },
    {
      "cell_type": "markdown",
      "source": [
        "RL Algorithm to be used in this example:\n",
        "\n",
        "<center><h1>Q-learning</h1></center>\n",
        "\n",
        "<br/>\n",
        "\n",
        "<h4>\n",
        "\\begin{align}\n",
        "Q(s,a) = r(s,a) + \\gamma \\cdot \\max_{a} Q(s',a')\n",
        "\\end{align}\n",
        "</h4>\n",
        "\n",
        "<br/>\n",
        "\n",
        "###$Q(s,a)$ = Q-value\n",
        "\n",
        "###$r(s,a)$ = reward for current action\n",
        "\n",
        "###$\\gamma$ = parameter that scales: $\\max_{a}Q(s',a')$\n",
        "\n",
        "###$\\max_{a}Q(s',a')$ = Maximum Q-value predicted in the next state \n",
        "\n",
        "<br/>\n",
        "\n",
        "---"
      ],
      "metadata": {
        "id": "u1IqACZf-7yG"
      }
    },
    {
      "cell_type": "markdown",
      "source": [
        "<h3>Long term interpretation of Q:</h3>\n",
        "<h3>\n",
        "$$\n",
        "Q(s_t,a_t) = r(t) + \\gamma \\cdot r(t+1) + \\gamma^2 \\cdot r(t+2) +  \\gamma^3 \\cdot r(t+3) \\ ...\n",
        "$$\n",
        "</h3>"
      ],
      "metadata": {
        "id": "EtMh6rUaKpep"
      }
    },
    {
      "cell_type": "markdown",
      "source": [
        "**Reference**  \n",
        "Mnih, V., Kavukcuoglu, K., Silver, D., Rusu, A. A., Veness, J., Bellemare, M. G., ... & Petersen, S. (2015). *Human-level control through deep reinforcement learning*. Nature, 518(7540), 529"
      ],
      "metadata": {
        "id": "vJM_vfH8gSf9"
      }
    },
    {
      "cell_type": "code",
      "source": [
        "import sys\n",
        "IN_COLAB = \"google.colab\" in sys.modules\n",
        "\n",
        "if IN_COLAB:\n",
        "    !apt install python-opengl\n",
        "    !apt install ffmpeg\n",
        "    !apt install xvfb\n",
        "    !pip install PyVirtualDisplay==3.0\n",
        "    !pip install gym==0.21.0\n",
        "    from pyvirtualdisplay import Display\n",
        "    \n",
        "    # Start virtual display\n",
        "    dis = Display(visible=0, size=(400, 400))\n",
        "    dis.start()"
      ],
      "metadata": {
        "id": "KtRw868MHSEj",
        "outputId": "f27f49e2-060f-4f17-e6bd-23da200681a9",
        "colab": {
          "base_uri": "https://localhost:8080/"
        }
      },
      "execution_count": 2,
      "outputs": [
        {
          "output_type": "stream",
          "name": "stdout",
          "text": [
            "Reading package lists... Done\n",
            "Building dependency tree       \n",
            "Reading state information... Done\n",
            "The following package was automatically installed and is no longer required:\n",
            "  libnvidia-common-460\n",
            "Use 'apt autoremove' to remove it.\n",
            "Suggested packages:\n",
            "  libgle3\n",
            "The following NEW packages will be installed:\n",
            "  python-opengl\n",
            "0 upgraded, 1 newly installed, 0 to remove and 49 not upgraded.\n",
            "Need to get 496 kB of archives.\n",
            "After this operation, 5,416 kB of additional disk space will be used.\n",
            "Get:1 http://archive.ubuntu.com/ubuntu bionic/universe amd64 python-opengl all 3.1.0+dfsg-1 [496 kB]\n",
            "Fetched 496 kB in 0s (4,564 kB/s)\n",
            "Selecting previously unselected package python-opengl.\n",
            "(Reading database ... 155673 files and directories currently installed.)\n",
            "Preparing to unpack .../python-opengl_3.1.0+dfsg-1_all.deb ...\n",
            "Unpacking python-opengl (3.1.0+dfsg-1) ...\n",
            "Setting up python-opengl (3.1.0+dfsg-1) ...\n",
            "Reading package lists... Done\n",
            "Building dependency tree       \n",
            "Reading state information... Done\n",
            "ffmpeg is already the newest version (7:3.4.11-0ubuntu0.1).\n",
            "The following package was automatically installed and is no longer required:\n",
            "  libnvidia-common-460\n",
            "Use 'apt autoremove' to remove it.\n",
            "0 upgraded, 0 newly installed, 0 to remove and 49 not upgraded.\n",
            "Reading package lists... Done\n",
            "Building dependency tree       \n",
            "Reading state information... Done\n",
            "The following package was automatically installed and is no longer required:\n",
            "  libnvidia-common-460\n",
            "Use 'apt autoremove' to remove it.\n",
            "The following NEW packages will be installed:\n",
            "  xvfb\n",
            "0 upgraded, 1 newly installed, 0 to remove and 49 not upgraded.\n",
            "Need to get 785 kB of archives.\n",
            "After this operation, 2,271 kB of additional disk space will be used.\n",
            "Get:1 http://archive.ubuntu.com/ubuntu bionic-updates/universe amd64 xvfb amd64 2:1.19.6-1ubuntu4.11 [785 kB]\n",
            "Fetched 785 kB in 0s (6,740 kB/s)\n",
            "Selecting previously unselected package xvfb.\n",
            "(Reading database ... 158028 files and directories currently installed.)\n",
            "Preparing to unpack .../xvfb_2%3a1.19.6-1ubuntu4.11_amd64.deb ...\n",
            "Unpacking xvfb (2:1.19.6-1ubuntu4.11) ...\n",
            "Setting up xvfb (2:1.19.6-1ubuntu4.11) ...\n",
            "Processing triggers for man-db (2.8.3-2ubuntu0.1) ...\n",
            "Looking in indexes: https://pypi.org/simple, https://us-python.pkg.dev/colab-wheels/public/simple/\n",
            "Collecting PyVirtualDisplay==3.0\n",
            "  Downloading PyVirtualDisplay-3.0-py3-none-any.whl (15 kB)\n",
            "Installing collected packages: PyVirtualDisplay\n",
            "Successfully installed PyVirtualDisplay-3.0\n",
            "Looking in indexes: https://pypi.org/simple, https://us-python.pkg.dev/colab-wheels/public/simple/\n",
            "Collecting gym==0.21.0\n",
            "  Downloading gym-0.21.0.tar.gz (1.5 MB)\n",
            "\u001b[K     |████████████████████████████████| 1.5 MB 15.6 MB/s \n",
            "\u001b[?25hRequirement already satisfied: numpy>=1.18.0 in /usr/local/lib/python3.7/dist-packages (from gym==0.21.0) (1.21.6)\n",
            "Requirement already satisfied: cloudpickle>=1.2.0 in /usr/local/lib/python3.7/dist-packages (from gym==0.21.0) (1.3.0)\n",
            "Requirement already satisfied: importlib_metadata>=4.8.1 in /usr/local/lib/python3.7/dist-packages (from gym==0.21.0) (4.12.0)\n",
            "Requirement already satisfied: zipp>=0.5 in /usr/local/lib/python3.7/dist-packages (from importlib_metadata>=4.8.1->gym==0.21.0) (3.8.1)\n",
            "Requirement already satisfied: typing-extensions>=3.6.4 in /usr/local/lib/python3.7/dist-packages (from importlib_metadata>=4.8.1->gym==0.21.0) (4.1.1)\n",
            "Building wheels for collected packages: gym\n",
            "  Building wheel for gym (setup.py) ... \u001b[?25l\u001b[?25hdone\n",
            "  Created wheel for gym: filename=gym-0.21.0-py3-none-any.whl size=1616826 sha256=f22fa15a77c68e69e2f6a8e3c565779d92461b60259fd725e33f027b9dac9043\n",
            "  Stored in directory: /root/.cache/pip/wheels/76/ee/9c/36bfe3e079df99acf5ae57f4e3464ff2771b34447d6d2f2148\n",
            "Successfully built gym\n",
            "Installing collected packages: gym\n",
            "  Attempting uninstall: gym\n",
            "    Found existing installation: gym 0.17.3\n",
            "    Uninstalling gym-0.17.3:\n",
            "      Successfully uninstalled gym-0.17.3\n",
            "Successfully installed gym-0.21.0\n"
          ]
        }
      ]
    },
    {
      "cell_type": "code",
      "execution_count": 3,
      "metadata": {
        "id": "DPWjJiOZ2uVd"
      },
      "outputs": [],
      "source": [
        "import os\n",
        "from typing import Dict, List, Tuple\n",
        "\n",
        "import gym\n",
        "import matplotlib.pyplot as plt\n",
        "import numpy as np\n",
        "import torch\n",
        "import torch.nn as nn\n",
        "import torch.nn.functional as F\n",
        "import torch.optim as optim\n",
        "from IPython.display import clear_output,HTML, display\n",
        "import base64\n",
        "import glob\n",
        "import io"
      ]
    },
    {
      "cell_type": "markdown",
      "source": [
        "## Network\n",
        "\n",
        "We are going to use a simple network architecture with three fully connected layers and two non-linearity functions (ReLU)."
      ],
      "metadata": {
        "id": "hyKWUadCZASY"
      }
    },
    {
      "cell_type": "code",
      "source": [
        "### Create a neural network class \n",
        "class Network(nn.Module):\n",
        "  def __init__(self,in_dim:int, out_dim:int,num_hn:int):\n",
        "    super(Network, self).__init__()\n",
        "\n",
        "    self.layers=nn.Sequential(\n",
        "        nn.Linear(in_dim,num_hn),\n",
        "        nn.ReLU(),\n",
        "        nn.Linear(num_hn,num_hn),\n",
        "        nn.ReLU(),\n",
        "        nn.Linear(num_hn,out_dim)\n",
        "    )\n",
        "\n",
        "  def forward(self,x:torch.Tensor):\n",
        "    return self.layers(x)  "
      ],
      "metadata": {
        "id": "KVleneWxZqGq"
      },
      "execution_count": 4,
      "outputs": []
    },
    {
      "cell_type": "markdown",
      "source": [
        "## Replay buffer\n",
        "\n",
        "Typically, people implement replay buffers with one of the following three data structures:\n",
        "\n",
        "  - collections.deque\n",
        "  - list\n",
        "  - numpy.ndarray\n",
        "  \n",
        "**deque** is very easy to handle once you initialize its maximum length (e.g. deque(maxlen=buffer_size)). However, the indexing operation of deque gets terribly slow as it grows up because it is [internally doubly linked list](https://wiki.python.org/moin/TimeComplexity#collections.deque). On the other hands, **list** is an array, so it is relatively faster than deque when you sample batches at every step. Its amortized cost of  *Get item* is [O(1)](https://wiki.python.org/moin/TimeComplexity#list).\n",
        "\n",
        "Last but not least, let's see **numpy.ndarray**. numpy.ndarray is even faster than list due to the fact that it is [a homogeneous array of fixed-size items](https://docs.scipy.org/doc/numpy/reference/generated/numpy.ndarray.html#numpy.ndarray), so you can get the benefits of [locality of reference](https://en.wikipedia.org/wiki/Locality_of_reference). Whereas list is an array of pointers to objects, even when all of them are of the same type.\n",
        "\n",
        "Here, we are going to implement a replay buffer using numpy.ndarray.\n",
        "\n",
        "\n",
        "Reference: [OpenAI spinning-up](https://github.com/openai/spinningup/blob/master/spinup/algos/sac/sac.py#L10)"
      ],
      "metadata": {
        "id": "rj0SrJzkY5xY"
      }
    },
    {
      "cell_type": "code",
      "execution_count": 5,
      "metadata": {
        "id": "7CsaVrbA2uVp"
      },
      "outputs": [],
      "source": [
        "#Create ReplayBuffer Class\n",
        "class ReplayBuffer:\n",
        "    \"\"\"A simple numpy replay buffer.\"\"\"\n",
        "\n",
        "    def __init__(self, obs_dim: int, size: int, batch_size: int = 32):\n",
        "        self.obs_buf = np.zeros([size, obs_dim], dtype=np.float32)\n",
        "        self.next_obs_buf = np.zeros([size, obs_dim], dtype=np.float32)\n",
        "        self.acts_buf = np.zeros([size], dtype=np.float32)\n",
        "        self.rews_buf = np.zeros([size], dtype=np.float32)\n",
        "        self.done_buf = np.zeros(size, dtype=np.float32)\n",
        "        self.max_size, self.batch_size = size, batch_size\n",
        "        self.ptr, self.size, = 0, 0\n",
        "\n",
        "    def store(\n",
        "        self,\n",
        "        obs: np.ndarray,\n",
        "        act: np.ndarray, \n",
        "        rew: float, \n",
        "        next_obs: np.ndarray, \n",
        "        done: bool,\n",
        "    ):\n",
        "        self.obs_buf[self.ptr] = obs\n",
        "        self.next_obs_buf[self.ptr] = next_obs\n",
        "        self.acts_buf[self.ptr] = act\n",
        "        self.rews_buf[self.ptr] = rew\n",
        "        self.done_buf[self.ptr] = done\n",
        "        self.ptr = (self.ptr + 1) % self.max_size\n",
        "        self.size = min(self.size + 1, self.max_size)\n",
        "\n",
        "    def sample_batch(self) -> Dict[str, np.ndarray]:\n",
        "        idxs = np.random.choice(self.size, size=self.batch_size, replace=False)\n",
        "        return dict(obs=self.obs_buf[idxs],\n",
        "                    next_obs=self.next_obs_buf[idxs],\n",
        "                    acts=self.acts_buf[idxs],\n",
        "                    rews=self.rews_buf[idxs],\n",
        "                    done=self.done_buf[idxs])\n",
        "\n",
        "    def __len__(self) -> int:\n",
        "        return self.size"
      ]
    },
    {
      "cell_type": "markdown",
      "source": [
        "## DQN Agent\n",
        "\n",
        "Here is a summary of DQNAgent class.\n",
        "\n",
        "| Method           | Note                                                 |\n",
        "| ---              | ---                                                  |\n",
        "|select_action     | select an action from the input state.               |\n",
        "|step              | take an action and return the response of the env.   |\n",
        "|compute_dqn_loss  | return dqn loss.                                     |\n",
        "|update_model      | update the model by gradient descent.                |\n",
        "|target_hard_update| hard update from the local model to the target model.|\n",
        "|train             | train the agent during num_frames.                   |\n",
        "|test              | test the agent (1 episode).                          |\n",
        "|plot              | plot the training progresses.                        |\n"
      ],
      "metadata": {
        "id": "dx9OyOhCZKL4"
      }
    },
    {
      "cell_type": "code",
      "source": [
        "# Create DQNAgent class \n",
        "class DQNAgent:\n",
        "    \"\"\"DQN Agent interacting with environment.\n",
        "    \n",
        "    Attribute:\n",
        "        env (gym.Env): openAI Gym environment\n",
        "        memory (ReplayBuffer): replay memory to store transitions\n",
        "        batch_size (int): batch size for sampling\n",
        "        epsilon (float): parameter for epsilon greedy policy\n",
        "        epsilon_decay (float): step size to decrease epsilon\n",
        "        max_epsilon (float): max value of epsilon\n",
        "        min_epsilon (float): min value of epsilon\n",
        "        target_update (int): period for target model's hard update\n",
        "        gamma (float): discount factor\n",
        "        dqn (Network): model to train and select actions\n",
        "        dqn_target (Network): target model to update\n",
        "        optimizer (torch.optim): optimizer for training dqn\n",
        "        transition (list): transition information including \n",
        "                           state, action, reward, next_state, done\n",
        "    \"\"\"\n",
        "\n",
        "    def __init__(\n",
        "        self, \n",
        "        env: gym.Env,\n",
        "        num_hidden_nodes:int,\n",
        "        memory_size: int,\n",
        "        batch_size: int,\n",
        "        target_update: int,\n",
        "        epsilon_decay: float,\n",
        "        max_epsilon: float = 1.0,\n",
        "        min_epsilon: float = 0.1,\n",
        "        gamma: float = 0.99,\n",
        "        learning_rate: float=0.001\n",
        "    ):\n",
        "        \"\"\"Initialization.\n",
        "        \n",
        "        Args:\n",
        "            env (gym.Env): openAI Gym environment\n",
        "            memory_size (int): length of memory\n",
        "            batch_size (int): batch size for sampling\n",
        "            target_update (int): period for target model's hard update\n",
        "            epsilon_decay (float): step size to decrease epsilon\n",
        "            lr (float): learning rate\n",
        "            max_epsilon (float): max value of epsilon\n",
        "            min_epsilon (float): min value of epsilon\n",
        "            gamma (float): discount factor\n",
        "        \"\"\"\n",
        "        obs_dim = env.observation_space.shape[0]\n",
        "        action_dim = env.action_space.n\n",
        "        \n",
        "        self.env = env\n",
        "        self.memory = ReplayBuffer(obs_dim, memory_size, batch_size)\n",
        "        self.batch_size = batch_size\n",
        "        self.epsilon = max_epsilon\n",
        "        self.epsilon_decay = epsilon_decay\n",
        "        self.max_epsilon = max_epsilon\n",
        "        self.min_epsilon = min_epsilon\n",
        "        self.target_update = target_update\n",
        "        self.gamma = gamma\n",
        "        \n",
        "        # device: cpu / gpu\n",
        "        self.device = torch.device(\n",
        "            \"cuda\" if torch.cuda.is_available() else \"cpu\"\n",
        "        )\n",
        "        print(self.device)\n",
        "\n",
        "        # networks: dqn, dqn_target\n",
        "        self.dqn = Network(obs_dim, action_dim,num_hidden_nodes).to(self.device)\n",
        "        self.dqn_target = Network(obs_dim, action_dim,num_hidden_nodes).to(self.device)\n",
        "        self.dqn_target.load_state_dict(self.dqn.state_dict())\n",
        "        self.dqn_target.eval()\n",
        "        print('params',self.dqn.parameters())\n",
        "        # optimizer\n",
        "        self.optimizer = optim.Adam(self.dqn.parameters(),lr=learning_rate)\n",
        "\n",
        "        # transition to store in memory\n",
        "        self.transition = list()\n",
        "        \n",
        "        # mode: train / test\n",
        "        self.is_test = False\n",
        "\n",
        "    def select_action(self, state: np.ndarray) -> np.ndarray:\n",
        "        \"\"\"Select an action from the input state.\"\"\"\n",
        "        # epsilon greedy policy\n",
        "        if self.epsilon > np.random.random():\n",
        "            selected_action = self.env.action_space.sample()\n",
        "        else:\n",
        "            selected_action = self.dqn(\n",
        "                torch.FloatTensor(state).to(self.device)\n",
        "            ).argmax()\n",
        "            selected_action = selected_action.detach().cpu().numpy()\n",
        "            \n",
        "        if not self.is_test:\n",
        "            self.transition = [state, selected_action]\n",
        "        \n",
        "        return selected_action\n",
        "\n",
        "    def step(self, action: np.ndarray) -> Tuple[np.ndarray, np.float64, bool]:\n",
        "        \"\"\"Take an action and return the response of the env.\"\"\"\n",
        "        next_state, reward, done, _ = self.env.step(action)\n",
        "\n",
        "        if not self.is_test:\n",
        "            self.transition += [reward, next_state, done]\n",
        "            # print('transiton',self.transition)\n",
        "            self.memory.store(*self.transition)\n",
        "    \n",
        "        return next_state, reward, done\n",
        "\n",
        "    def update_model(self) -> torch.Tensor:\n",
        "        \"\"\"Update the model by gradient descent.\"\"\"\n",
        "        samples = self.memory.sample_batch()\n",
        "\n",
        "        loss = self._compute_dqn_loss(samples)\n",
        "\n",
        "        self.optimizer.zero_grad()\n",
        "        loss.backward()\n",
        "        self.optimizer.step()\n",
        "\n",
        "        return loss.item()\n",
        "        \n",
        "    def train(self, num_frames: int, plotting_interval: int = 200):\n",
        "        \"\"\"Train the agent.\"\"\"\n",
        "        self.is_test = False\n",
        "        \n",
        "        state = self.env.reset()\n",
        "        update_cnt = 0\n",
        "        epsilons = []\n",
        "        predictions = []\n",
        "        # precitionsLeft = []\n",
        "        targets=[]\n",
        "        losses = []\n",
        "        scores = []\n",
        "        score = 0\n",
        "\n",
        "        for frame_idx in range(1, num_frames + 1):\n",
        "            action = self.select_action(state)\n",
        "            next_state, reward, done = self.step(action)\n",
        "\n",
        "            state = next_state\n",
        "            score += reward\n",
        "\n",
        "            # if episode ends\n",
        "            if done:\n",
        "                state = self.env.reset()\n",
        "                scores.append(score)\n",
        "                score = 0\n",
        "\n",
        "            # if training is ready\n",
        "            if len(self.memory) >= self.batch_size:\n",
        "                loss = self.update_model()\n",
        "                losses.append(loss)\n",
        "                # targets.append(target)\n",
        "                update_cnt += 1\n",
        "                \n",
        "                predict = self.dqn(\n",
        "                torch.FloatTensor(state).to(self.device)\n",
        "                ).detach().tolist()\n",
        "                predictions.append(predict)\n",
        "                \n",
        "                self.epsilon = max(\n",
        "                    self.min_epsilon, self.epsilon - (\n",
        "                        self.max_epsilon - self.min_epsilon\n",
        "                    ) * self.epsilon_decay\n",
        "                )\n",
        "              \n",
        "                epsilons.append(self.epsilon)\n",
        "                \n",
        "                # if hard update is needed\n",
        "                if update_cnt % self.target_update == 0:\n",
        "                    self._target_hard_update()\n",
        "\n",
        "            # plotting\n",
        "            if frame_idx % plotting_interval == 0:\n",
        "                self._plot(frame_idx, scores, losses, epsilons,predictions)\n",
        "                \n",
        "        self.env.close()\n",
        "                \n",
        "    def test(self, video_folder: str) -> None:\n",
        "        \"\"\"Test the agent.\"\"\"\n",
        "        self.is_test = True\n",
        "        \n",
        "        # for recording a video\n",
        "        naive_env = self.env\n",
        "        self.env = gym.wrappers.RecordVideo(self.env, video_folder=video_folder)\n",
        "        \n",
        "        state = self.env.reset()\n",
        "        done = False\n",
        "        score = 0\n",
        "        \n",
        "        while not done:\n",
        "            action = self.select_action(state)\n",
        "            next_state, reward, done = self.step(action)\n",
        "\n",
        "            state = next_state\n",
        "            score += reward\n",
        "        print(\"score: \", score)\n",
        "        self.env.close()\n",
        "        \n",
        "        # reset\n",
        "        self.env = naive_env\n",
        "\n",
        "    def _compute_dqn_loss(self, samples: Dict[str, np.ndarray]) -> torch.Tensor:\n",
        "        \"\"\"Return dqn loss.\"\"\"\n",
        "        device = self.device  # for shortening the following lines\n",
        "        state = torch.FloatTensor(samples[\"obs\"]).to(device)\n",
        "        next_state = torch.FloatTensor(samples[\"next_obs\"]).to(device)\n",
        "        action = torch.LongTensor(samples[\"acts\"].reshape(-1, 1)).to(device)\n",
        "        reward = torch.FloatTensor(samples[\"rews\"].reshape(-1, 1)).to(device)\n",
        "        done = torch.FloatTensor(samples[\"done\"].reshape(-1, 1)).to(device)\n",
        "\n",
        "        # G_t   = r + gamma * v(s_{t+1})  if state != Terminal\n",
        "        #       = r                       otherwise\n",
        "        curr_q_value = self.dqn(state).gather(1, action)\n",
        "        next_q_value = self.dqn_target(\n",
        "            next_state\n",
        "        ).max(dim=1, keepdim=True)[0].detach()\n",
        "        mask = 1 - done\n",
        "        # mask=1\n",
        "        target = (reward + self.gamma * next_q_value * mask).to(self.device)\n",
        "        # targetForPlot = (reward + self.gamma * next_q_value * mask)\n",
        "        \n",
        "        # calculate dqn loss\n",
        "        loss = F.smooth_l1_loss(curr_q_value, target)\n",
        "        return loss\n",
        "\n",
        "    def _target_hard_update(self):\n",
        "        \"\"\"Hard update: target <- local.\"\"\"\n",
        "        self.dqn_target.load_state_dict(self.dqn.state_dict())\n",
        "                \n",
        "    def _plot(\n",
        "        self, \n",
        "        frame_idx: int, \n",
        "        scores: List[float], \n",
        "        losses: List[float], \n",
        "        epsilons: List[float],\n",
        "        predictions: List[float],\n",
        "    ):\n",
        "          \n",
        "        \"\"\"Plot the training progresses.\"\"\"\n",
        "        clear_output(True)\n",
        "        # print(targets)\n",
        "        plt.figure(figsize=(20, 5))\n",
        "        plt.subplot(141)\n",
        "        plt.title('frame %s. score: %s' % (frame_idx, np.mean(scores[-10:])))\n",
        "        plt.plot(scores)\n",
        "        plt.subplot(142)\n",
        "        plt.title('loss')\n",
        "        plt.plot(losses)\n",
        "        plt.subplot(143)\n",
        "        plt.title('epsilons')\n",
        "        plt.plot(epsilons)\n",
        "        plt.subplot(144)\n",
        "        plt.title('predictions')\n",
        "        plt.plot(predictions)\n",
        "        plt.show()"
      ],
      "metadata": {
        "id": "YVbtpCYqZGv7"
      },
      "execution_count": 6,
      "outputs": []
    },
    {
      "cell_type": "markdown",
      "source": [
        "#Create the environment"
      ],
      "metadata": {
        "id": "if11YIXAf_dG"
      }
    },
    {
      "cell_type": "code",
      "execution_count": 7,
      "metadata": {
        "id": "uFZuVbZz2uVq"
      },
      "outputs": [],
      "source": [
        "# set the environment\n",
        "env_id = \"CartPole-v0\"\n",
        "env = gym.make(env_id)"
      ]
    },
    {
      "cell_type": "markdown",
      "source": [
        "#Set parameters for experiment"
      ],
      "metadata": {
        "id": "8yoJpvcXgCEL"
      }
    },
    {
      "cell_type": "code",
      "execution_count": 8,
      "metadata": {
        "id": "yianM-dx2uVn"
      },
      "outputs": [],
      "source": [
        "# create params\n",
        "num_frames = 50000\n",
        "memory_size = 1000\n",
        "gamma=0.99\n",
        "batch_size = 32\n",
        "target_update = 100\n",
        "epsilon_decay = 1 / 2000\n",
        "num_hidden_nodes=128\n",
        "video_folder=\"videos\"\n",
        "learning_rate=0.001"
      ]
    },
    {
      "cell_type": "code",
      "source": [
        "#Initialize the agent using the DQN class\n",
        "agent = DQNAgent(env,num_hidden_nodes, memory_size=memory_size, batch_size= batch_size, target_update=target_update, epsilon_decay= epsilon_decay,gamma=gamma,learning_rate=learning_rate)"
      ],
      "metadata": {
        "id": "VUt0odA2kuSl",
        "colab": {
          "base_uri": "https://localhost:8080/"
        },
        "outputId": "3c759a11-f8c6-4ddc-9dbe-b83105078a8a"
      },
      "execution_count": 9,
      "outputs": [
        {
          "output_type": "stream",
          "name": "stdout",
          "text": [
            "cpu\n",
            "params <generator object Module.parameters at 0x7fc223c2ac50>\n"
          ]
        }
      ]
    },
    {
      "cell_type": "markdown",
      "source": [
        "#Train"
      ],
      "metadata": {
        "id": "BPu85nk2ZfJa"
      }
    },
    {
      "cell_type": "code",
      "execution_count": 10,
      "metadata": {
        "id": "azVNSMYa2uVq",
        "colab": {
          "base_uri": "https://localhost:8080/",
          "height": 281
        },
        "outputId": "a937ba39-017f-4cf0-afa1-2b7c72bc3102"
      },
      "outputs": [
        {
          "output_type": "display_data",
          "data": {
            "text/plain": [
              "<Figure size 1440x360 with 4 Axes>"
            ],
            "image/png": "[encoded data removed]"
          },
          "metadata": {
            "needs_background": "light"
          }
        }
      ],
      "source": [
        "# train the agent\n",
        "\n",
        "agent.train(num_frames)"
      ]
    },
    {
      "cell_type": "markdown",
      "source": [
        "#Test the network and export video of agent's actions"
      ],
      "metadata": {
        "id": "oUsgqvzyZh8q"
      }
    },
    {
      "cell_type": "code",
      "execution_count": 11,
      "metadata": {
        "id": "EomjmDOb2uVn",
        "colab": {
          "base_uri": "https://localhost:8080/"
        },
        "outputId": "651f56c0-0009-4219-8b2b-ef430c25a270"
      },
      "outputs": [
        {
          "output_type": "stream",
          "name": "stdout",
          "text": [
            "score:  200.0\n"
          ]
        }
      ],
      "source": [
        "# create the video_folder var\n",
        "agent.test(video_folder=video_folder)"
      ]
    },
    {
      "cell_type": "code",
      "source": [
        "## create the functions to display the test video in colab\n",
        "\n",
        "\n",
        "def ipython_show_video(path: str) -> None:\n",
        "    \"\"\"Show a video at `path` within IPython Notebook.\"\"\"\n",
        "    if not os.path.isfile(path):\n",
        "        raise NameError(\"Cannot access: {}\".format(path))\n",
        "\n",
        "    video = io.open(path, \"r+b\").read()\n",
        "    encoded = base64.b64encode(video)\n",
        "\n",
        "    display(HTML(\n",
        "        data=\"\"\"\n",
        "        <video width=\"320\" height=\"240\" alt=\"test\" controls>\n",
        "        <source src=\"data:video/mp4;base64,{0}\" type=\"video/mp4\"/>\n",
        "        </video>\n",
        "        \"\"\".format(encoded.decode(\"ascii\"))\n",
        "    ))\n",
        "\n",
        "\n",
        "def show_latest_video(video_folder: str) -> str:\n",
        "    \"\"\"Show the most recently recorded video from video folder.\"\"\"\n",
        "    list_of_files = glob.glob(os.path.join(video_folder, \"*.mp4\"))\n",
        "    latest_file = max(list_of_files, key=os.path.getctime)\n",
        "    ipython_show_video(latest_file)\n",
        "    return latest_file\n",
        "\n",
        "\n",
        "latest_file = show_latest_video(video_folder=video_folder)\n",
        "print(\"Played:\", latest_file)"
      ],
      "metadata": {
        "id": "sTQ7xo9DZUKb",
        "colab": {
          "base_uri": "https://localhost:8080/",
          "height": 279
        },
        "outputId": "8dc889fb-96ff-4376-c24f-29b02fae6f2e"
      },
      "execution_count": 12,
      "outputs": [
        {
          "output_type": "display_data",
          "data": {
            "text/plain": [
              "<IPython.core.display.HTML object>"
            ],
            "text/html": [
              "\n",
              "        <video width=\"320\" height=\"240\" alt=\"test\" controls>\n",
              "        <source src=\"data:video/mp4;base64,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\" type=\"video/mp4\"/>\n",
              "        </video>\n",
              "        "
            ]
          },
          "metadata": {}
        },
        {
          "output_type": "stream",
          "name": "stdout",
          "text": [
            "Played: videos/rl-video-episode-0.mp4\n"
          ]
        }
      ]
    },
    {
      "cell_type": "code",
      "source": [
        "state = [0,0,0,0]\n",
        "predictions=agent.dqn(\n",
        "                torch.FloatTensor(state).to(agent.device)\n",
        "            ).detach().tolist()\n",
        "\n",
        "print(predictions)"
      ],
      "metadata": {
        "id": "zJM-hU0bjg3Z",
        "outputId": "5f7f994d-f04c-4bf0-e543-3e951ee5f058",
        "colab": {
          "base_uri": "https://localhost:8080/"
        }
      },
      "execution_count": 13,
      "outputs": [
        {
          "output_type": "stream",
          "name": "stdout",
          "text": [
            "[101.89257049560547, 101.92709350585938]\n"
          ]
        }
      ]
    },
    {
      "cell_type": "code",
      "source": [
        "# def\n",
        "x=np.linspace(0,200,201)\n",
        "y=0\n",
        "gamma=0.99\n",
        "ys=[]\n",
        "for currX in x:\n",
        "  y+=gamma**currX\n",
        "  ys.append(y)\n",
        "\n",
        "plt.plot(x,ys)\n",
        "plt.show()"
      ],
      "metadata": {
        "id": "00xH9cBU8UqR",
        "outputId": "eb1e370b-98d7-4ec0-9609-945d7e718a62",
        "colab": {
          "base_uri": "https://localhost:8080/",
          "height": 265
        }
      },
      "execution_count": 14,
      "outputs": [
        {
          "output_type": "display_data",
          "data": {
            "text/plain": [
              "<Figure size 432x288 with 1 Axes>"
            ],
            "image/png": "[encoded data removed]"
          },
          "metadata": {
            "needs_background": "light"
          }
        }
      ]
    }
  ],
  "metadata": {
    "kernelspec": {
      "display_name": "Python 3",
      "name": "python3"
    },
    "language_info": {
      "name": "python"
    },
    "colab": {
      "name": "lesson-04.BTitor.ipynb",
      "provenance": [],
      "collapsed_sections": []
    },
    "gpuClass": "standard"
  },
  "nbformat": 4,
  "nbformat_minor": 0
}