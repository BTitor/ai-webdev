{
 "cells": [
  {
   "cell_type": "code",
   "execution_count": null,
   "metadata": {},
   "outputs": [],
   "source": [
    "import numpy as np\n",
    "\n",
    "def sigmoid(x):\n",
    "  return 1/(1+np.exp(-x))\n",
    "  \n",
    "hidden_weight_matrix=np.array([[.15,0.25],[0.2,0.3],[0.35,0.35]])\n",
    "output_weight_matrix=np.array([[.4,0.5],[0.45,0.55],[0.6,0.6]])\n",
    "input_array=[0.05,0.1]\n",
    "def hidden_layer(inputs=input_array,weights=hidden_weight_matrix,act_fn=sigmoid):\n",
    "  inputs_with_bias=np.array([*inputs,1])\n",
    "  net_nodes=inputs_with_bias@weights\n",
    "  # print(net_nodes)\n",
    "  return act_fn(net_nodes)\n",
    "hidden_layer()\n",
    "# output_layer()"
   ]
  }
 ],
 "metadata": {
  "language_info": {
   "name": "python"
  },
  "orig_nbformat": 4
 },
 "nbformat": 4,
 "nbformat_minor": 2
}
