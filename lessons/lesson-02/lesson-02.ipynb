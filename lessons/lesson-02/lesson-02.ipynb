{
  "cells": [
    {
      "cell_type": "markdown",
      "metadata": {
        "id": "zxMSBUaZoKCY"
      },
      "source": [
        "<center><h1>AI in Web Development</h1></center>\n",
        "\n",
        "---\n",
        "\n",
        "<center><h2>Lesson 02</h2></center>\n",
        "\n",
        "\n",
        "[![Open In Colab](https://colab.research.google.com/assets/colab-badge.svg)](https://colab.research.google.com/github/snsie/ai-webdev/blob/main/lessons/lesson-02/lesson-02.ipynb)"
      ]
    },
    {
      "cell_type": "markdown",
      "source": [
        "##Resources used for this lesson:\n",
        "\n",
        "1. [Backpropagation Example](https://mattmazur.com/2015/03/17/a-step-by-step-backpropagation-example/)\n",
        "\n",
        "<!-- 2. [Colab Example](https://colab.research.google.com/github/casperbh96/Neural-Network-From-Scratch/blob/master/NN_From_Scratch.ipynb) -->"
      ],
      "metadata": {
        "id": "3kRHN70Go-dz"
      }
    },
    {
      "cell_type": "markdown",
      "source": [
        "<center><img src='https://github.com/snsie/ai-webdev/blob/main/images/matt_network_numbered.png?raw=true'/>\n",
        "<p>Parameterized Network</p></center>\n",
        "\n",
        "---"
      ],
      "metadata": {
        "id": "cG5HsTW21yOi"
      }
    },
    {
      "cell_type": "markdown",
      "source": [
        "<br/>\n",
        "\n",
        "\\begin{align}\n",
        "\\textrm{Inputs: }\n",
        "\\left[\n",
        "\\begin{matrix}\n",
        "0.05 & 0.10\n",
        "\\end{matrix}\n",
        "\\right]\n",
        "\\end{align}\n",
        "\n",
        "<br/>\n",
        "\n",
        "\\begin{align}\n",
        "\\textrm{Outputs: }\n",
        "\\left[\n",
        "\\begin{matrix}\n",
        "0.01 & 0.99\n",
        "\\end{matrix}\n",
        "\\right]\n",
        "\\end{align}\n",
        "\n",
        "<br/>\n",
        "\n",
        "\\begin{align}\n",
        "\\textrm{Weights to Hidden Layer: }\n",
        "\\left[\n",
        "\\begin{matrix}\n",
        "0.15 & 0.25 \\\\\n",
        "0.2 & 0.3 \\\\\n",
        "0.35 & 0.35\n",
        "\\end{matrix}\n",
        "\\right]\n",
        "\\end{align}\n",
        "\n",
        "<br/>\n",
        "\n",
        "\\begin{align}\n",
        "\\textrm{Weights to Output Layer: }\n",
        "\\left[\n",
        "\\begin{matrix}\n",
        "0.4 & 0.5 \\\\\n",
        "0.45 & 0.55 \\\\\n",
        "0.6 & 0.6\n",
        "\\end{matrix}\n",
        "\\right]\n",
        "\\end{align}\n",
        "\n",
        "<br/>\n",
        "\n",
        "\\begin{align}\n",
        "\\textrm{Learning Rate: } 0.5\n",
        "\\end{align}\n",
        "\n",
        "<br/>\n"
      ],
      "metadata": {
        "id": "y9oUQdHtGox_"
      }
    },
    {
      "cell_type": "code",
      "source": [
        "import numpy as np"
      ],
      "metadata": {
        "id": "ZVmJgs4Hv77H"
      },
      "execution_count": 1,
      "outputs": []
    },
    {
      "cell_type": "code",
      "source": [
        "# inputs array\n",
        "inputArr=[0.05,0.1]\n",
        "\n",
        "# outputs array\n",
        "outputArr=[0.01,0.99]\n",
        "\n",
        "#learning rate\n",
        "lr=0.5"
      ],
      "metadata": {
        "id": "YBmMGvnrv_70"
      },
      "execution_count": 2,
      "outputs": []
    },
    {
      "cell_type": "code",
      "source": [
        "class NeuralNetworkForwardPass():\n",
        "  \"\"\"\n",
        "  computes single forward step of neural network\n",
        "  \"\"\"\n",
        "  def __init__(self,inputs,outputs):\n",
        "    self.inputs = inputs\n",
        "    self.inputsWithBias = np.array([*self.inputs,1])\n",
        "    self.outputs = outputs\n",
        "    self.weightsToHl=np.array([[.15,0.25],[0.2,0.3],[0.35,0.35]])\n",
        "    self.weightsToOl=np.array([[.4,0.5],[0.45,0.55],[0.6,0.6]])\n",
        "\n",
        "  ### Example uses the sigmoid activation function for all layers\n",
        "  def sigmoid(self,x,derivative=False):\n",
        "    if derivative:\n",
        "      return x*(1-x)\n",
        "    return 1/(1+np.exp(-x))\n",
        "\n",
        "  def getHlOutputs(self):    \n",
        "    self.inputsWithBias = np.array([*self.inputs,1])\n",
        "    #multiply 1x3 input array with 3x2 weights array\n",
        "    netHl = self.inputsWithBias @ self.weightsToHl\n",
        "    return self.sigmoid(x=netHl,derivative=False)\n",
        "\n",
        "  def forwardPass(self):\n",
        "    hlOutputs=self.getHlOutputs()\n",
        "    self.hlOutputsWithBias=np.array([*hlOutputs,1])\n",
        "    netOl= self.hlOutputsWithBias @ self.weightsToOl\n",
        "    # actFn=self.sigmoid\n",
        "    return self.sigmoid(x=netOl,derivative=False)\n",
        "\n",
        "network=NeuralNetworkForwardPass(inputArr,outputArr)\n",
        "\n",
        "olOutputs=network.forwardPass()\n",
        "print(olOutputs)"
      ],
      "metadata": {
        "id": "96p-fmth7Njn",
        "outputId": "e71cbeb6-82c6-49fd-90c3-b1f14bb4a89e",
        "colab": {
          "base_uri": "https://localhost:8080/"
        }
      },
      "execution_count": 3,
      "outputs": [
        {
          "output_type": "stream",
          "name": "stdout",
          "text": [
            "[0.75136507 0.77292847]\n"
          ]
        }
      ]
    },
    {
      "cell_type": "markdown",
      "source": [
        "<h3 align='center'>backward pass follows the chain rule</h3>\n",
        "\n",
        "\\begin{align}\n",
        "\\frac{\\partial x}{\\partial y}=\\frac{\\partial x}{\\partial u}\\frac{\\partial u}{\\partial y}\n",
        "\\end{align}\n",
        "\n",
        "<br/>\n",
        "\n",
        "<center><img src='https://github.com/snsie/ai-webdev/blob/main/images/matt_backward_output_node.png?raw=true'/></center>\n",
        "\n",
        "<br/>\n",
        "\n",
        "---\n",
        "\n",
        "<br/>\n",
        "\n",
        "<center><img src='https://github.com/snsie/ai-webdev/blob/main/images/matt_backward_network.png?raw=true'/></center>\n",
        "\n",
        "<br/>\n"
      ],
      "metadata": {
        "id": "ss57opkgFhzD"
      }
    },
    {
      "cell_type": "markdown",
      "source": [
        "###<center>Equation to calculate new weights</center>\n",
        "<br/>\n",
        "\n",
        "\\begin{align}\n",
        "w_{t+1} =w_t - \\eta\\;\\cdot\\;\\frac{\\partial E_{total}}{\\partial w_t} \n",
        "\\end{align}\n",
        "<br/>\n"
      ],
      "metadata": {
        "id": "ZVC5728kRX7U"
      }
    },
    {
      "cell_type": "code",
      "source": [
        "class NeuralNetworkBackwardPass(NeuralNetworkForwardPass):\n",
        "    \"\"\"\n",
        "    updates weights via backpropagation\n",
        "    \"\"\"\n",
        "    def __init__(self,inputs,outputs, lr):\n",
        "        super().__init__(inputs,outputs)\n",
        "        # predicted from forward pass outputs\n",
        "        self.lr=lr\n",
        "        self.hlOutputs=self.getHlOutputs()\n",
        "        self.predOutputs = self.forwardPass()\n",
        "        # print(self.predOutputs)\n",
        "    \n",
        "    # get the change in total error with respect to each ol output\n",
        "    def get_dE_dOlOut(self):\n",
        "        return self.predOutputs-self.outputs\n",
        "    \n",
        "    # get the change in each ol node with respect to the net sum into each respective ol node\n",
        "    def get_dOlOut_dOlNet(self):\n",
        "      return self.sigmoid(self.predOutputs,derivative=True)\n",
        "\n",
        "    def get_dOlNet_dWOl(self):\n",
        "      return self.hlOutputsWithBias.reshape(len(self.hlOutputsWithBias),1)\n",
        "\n",
        "    def get_dE_dOlNet(self):\n",
        "      dE_dOlOut=self.get_dE_dOlOut()\n",
        "      dOlOut_dOlNet=self.get_dOlOut_dOlNet()\n",
        "      dE_dOlNet=dE_dOlOut*dOlOut_dOlNet\n",
        "      return dE_dOlNet\n",
        "\n",
        "    def getPartialWeightsToOl(self):\n",
        "      dE_dOlNet=self.get_dE_dOlNet()\n",
        "      dE_dOlNet=dE_dOlNet.reshape(1,len(dE_dOlNet))\n",
        "\n",
        "      dOlNet_dWOl=self.get_dOlNet_dWOl()\n",
        "      return dOlNet_dWOl@dE_dOlNet\n",
        "\n",
        "    def getNextWeightsToOl(self):\n",
        "      # get_dE_dOlOut=self.get_dE_dOlOut()\n",
        "      partialWeightsToOl=self.getPartialWeightsToOl()\n",
        "      # print(self.weightsToOl.shape)\n",
        "      nextWeightsToOl=self.weightsToOl-self.lr*partialWeightsToOl\n",
        "      return nextWeightsToOl\n",
        "\n",
        "    ########## updating weights to hidden layer below\n",
        "\n",
        "    def get_dE_dHlOut(self):\n",
        "      dE_dOlNet=self.get_dE_dOlNet()\n",
        "      # print(np.size(dE_dOlNet))\n",
        "      dE_dOlNet=dE_dOlNet.reshape(np.size(dE_dOlNet),1)\n",
        "      weightsToOlWithoutBias=np.delete(self.weightsToOl,2,0)\n",
        "      dOlNet_dHlOut=weightsToOlWithoutBias\n",
        "      return dOlNet_dHlOut@dE_dOlNet\n",
        "    \n",
        "    def get_dHlOut_dHlNet(self):\n",
        "      return self.sigmoid(self.hlOutputs,derivative=True)\n",
        "\n",
        "    def get_dE_dHlNet(self):\n",
        "      dE_dHlOut=self.get_dE_dHlOut().flatten()\n",
        "      dHlOut_dHlNet=self.get_dHlOut_dHlNet()\n",
        "      return dE_dHlOut*dHlOut_dHlNet\n",
        "\n",
        "    def get_dHlNet_dWHl(self):\n",
        "      return self.inputsWithBias.reshape(len(self.inputsWithBias),1)\n",
        "\n",
        "    def getPartialWeightsToHl(self):\n",
        "      dE_dHlNet=self.get_dE_dHlNet()\n",
        "      dE_dHlNet=dE_dHlNet.reshape(1,len(dE_dHlNet))\n",
        "      dHlNet_dWHl=self.get_dHlNet_dWHl()\n",
        "      return dHlNet_dWHl@dE_dHlNet\n",
        "\n",
        "    def getNextWeightsToHl(self):\n",
        "      partialWeightsToHl=self.getPartialWeightsToHl()\n",
        "      nextWeightsToHl=self.weightsToHl-self.lr*partialWeightsToHl\n",
        "      return nextWeightsToHl\n",
        "\n",
        "net=NeuralNetworkBackwardPass(inputArr,outputArr,lr)\n",
        "net.getNextWeightsToHl()"
      ],
      "metadata": {
        "id": "LUyDjjqg8lxk",
        "outputId": "e8be26c6-266a-439c-a7a3-fa3160e564d2",
        "colab": {
          "base_uri": "https://localhost:8080/"
        }
      },
      "execution_count": 123,
      "outputs": [
        {
          "output_type": "stream",
          "name": "stdout",
          "text": [
            "[[0.14978072 0.24975114]\n",
            " [0.19956143 0.29950229]\n",
            " [0.34561432 0.34502287]]\n"
          ]
        }
      ]
    }
  ],
  "metadata": {
    "kernelspec": {
      "display_name": "Python 3.9.7 64-bit",
      "language": "python",
      "name": "python3"
    },
    "language_info": {
      "name": "python",
      "version": "3.9.7"
    },
    "orig_nbformat": 4,
    "vscode": {
      "interpreter": {
        "hash": "5974ac25dc9be56ffc04c26f1dcea484687dd3721d1ee5a9c3f4a235d03fe9b9"
      }
    },
    "colab": {
      "name": "lesson-02.ipynb",
      "provenance": []
    }
  },
  "nbformat": 4,
  "nbformat_minor": 0
}