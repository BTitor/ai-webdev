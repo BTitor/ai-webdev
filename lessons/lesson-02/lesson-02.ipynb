{
 "cells": [
  {
   "cell_type": "code",
   "execution_count": null,
   "metadata": {},
   "outputs": [],
   "source": [
    "import numpy as np\n",
    "\n",
    "def sigmoid(x):\n",
    "  return 1/(1+np.exp(-x))\n",
    "  \n",
    "hidden_weight_matrix=np.array([[.15,0.25],[0.2,0.3],[0.35,0.35]])\n",
    "output_weight_matrix=np.array([[.4,0.5],[0.45,0.55],[0.6,0.6]])\n",
    "input_array=[0.05,0.1]\n",
    "def hidden_layer(inputs=input_array,weights=hidden_weight_matrix,act_fn=sigmoid):\n",
    "  inputs_with_bias=np.array([*inputs,1])\n",
    "  net_nodes=inputs_with_bias@weights\n",
    "  # print(net_nodes)\n",
    "  return act_fn(net_nodes)\n",
    "hidden_layer()\n",
    "# output_layer()"
   ]
  },
  {
   "cell_type": "markdown",
   "metadata": {},
   "source": [
    "<center><h1>AI in Web Development</h1></center>\n",
    "\n",
    "---\n",
    "\n",
    "<center><h2>Lesson 02</h2></center>\n",
    "\n",
    "\n",
    "[![Open In Colab](https://colab.research.google.com/assets/colab-badge.svg)](https://colab.research.google.com/github/snsie/ai-webdev/blob/main/lessons/lesson-02/lesson-02.ipynb)"
   ]
  }
 ],
 "metadata": {
  "kernelspec": {
   "display_name": "Python 3.9.7 64-bit",
   "language": "python",
   "name": "python3"
  },
  "language_info": {
   "name": "python",
   "version": "3.9.7"
  },
  "orig_nbformat": 4,
  "vscode": {
   "interpreter": {
    "hash": "5974ac25dc9be56ffc04c26f1dcea484687dd3721d1ee5a9c3f4a235d03fe9b9"
   }
  }
 },
 "nbformat": 4,
 "nbformat_minor": 2
}
