{
  "cells": [
    {
      "cell_type": "markdown",
      "metadata": {
        "id": "zxMSBUaZoKCY"
      },
      "source": [
        "<center><h1>AI in Web Development</h1></center>\n",
        "\n",
        "---\n",
        "\n",
        "<center><h2>Lesson 02</h2></center>\n",
        "\n",
        "\n",
        "[![Open In Colab](https://colab.research.google.com/assets/colab-badge.svg)](https://colab.research.google.com/github/snsie/ai-webdev/blob/main/lessons/lesson-02/lesson-02.ipynb)"
      ]
    },
    {
      "cell_type": "markdown",
      "source": [
        "##Resources used for this lesson:\n",
        "\n",
        "1. https://mattmazur.com/2015/03/17/a-step-by-step-backpropagation-example/\n",
        "2.https://colab.research.google.com/github/casperbh96/Neural-Network-From-Scratch/blob/master/NN_From_Scratch.ipynb"
      ],
      "metadata": {
        "id": "3kRHN70Go-dz"
      }
    },
    {
      "cell_type": "code",
      "source": [
        "import numpy as np"
      ],
      "metadata": {
        "id": "ZVmJgs4Hv77H"
      },
      "execution_count": null,
      "outputs": []
    },
    {
      "cell_type": "code",
      "source": [
        "### sigmoid activation function\n",
        "def sigmoid(x):\n",
        "  return 1/(1+np.exp(-x))"
      ],
      "metadata": {
        "id": "qSgxwzkhv_3v"
      },
      "execution_count": null,
      "outputs": []
    },
    {
      "cell_type": "code",
      "source": [
        "# inputs array\n",
        "\n",
        "# outputs array"
      ],
      "metadata": {
        "id": "YBmMGvnrv_70"
      },
      "execution_count": null,
      "outputs": []
    },
    {
      "cell_type": "code",
      "execution_count": null,
      "metadata": {
        "id": "0pmmm_vcoKCV"
      },
      "outputs": [],
      "source": [
        "#hl = hidden layer\n",
        "#Ol = output layer\n",
        "weightsToHl=np.array([[.15,0.25],[0.2,0.3],[0.35,0.35]])\n",
        "weightsToOl=np.array([[.4,0.5],[0.45,0.55],[0.6,0.6]])\n",
        "\n",
        "input_array=[0.05,0.1]\n",
        "def hidden_layer(inputs=input_array,weights=hidden_weight_matrix,act_fn=sigmoid):\n",
        "  inputs_with_bias=np.array([*inputs,1])\n",
        "  net_nodes=inputs_with_bias@weights\n",
        "  # print(net_nodes)\n",
        "  return act_fn(net_nodes)\n",
        "hidden_layer()\n",
        "# output_layer()"
      ]
    }
  ],
  "metadata": {
    "kernelspec": {
      "display_name": "Python 3.9.7 64-bit",
      "language": "python",
      "name": "python3"
    },
    "language_info": {
      "name": "python",
      "version": "3.9.7"
    },
    "orig_nbformat": 4,
    "vscode": {
      "interpreter": {
        "hash": "5974ac25dc9be56ffc04c26f1dcea484687dd3721d1ee5a9c3f4a235d03fe9b9"
      }
    },
    "colab": {
      "name": "lesson-02.ipynb",
      "provenance": []
    }
  },
  "nbformat": 4,
  "nbformat_minor": 0
}